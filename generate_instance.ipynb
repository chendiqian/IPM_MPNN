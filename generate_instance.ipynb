{
 "cells": [
  {
   "cell_type": "code",
   "execution_count": 1,
   "id": "4c2dad77-102e-4e03-98e4-7a0b5c64c465",
   "metadata": {},
   "outputs": [],
   "source": [
    "# from scipy.optimize import linprog\n",
    "from scipy_solver.linprog import linprog\n",
    "from tqdm import tqdm"
   ]
  },
  {
   "cell_type": "code",
   "execution_count": 2,
   "id": "8c3899ff-f027-449f-ae5c-7c5e3283148f",
   "metadata": {},
   "outputs": [],
   "source": [
    "import numpy as np\n",
    "import scipy.sparse\n",
    "\n",
    "\n",
    "def generate_setcover(nrows, ncols, density, max_coef=100):\n",
    "    \"\"\"\n",
    "    Generates a setcover instance with specified characteristics, and writes\n",
    "    it to a file in the LP format.\n",
    "\n",
    "    Approach described in:\n",
    "    E.Balas and A.Ho, Set covering algorithms using cutting planes, heuristics,\n",
    "    and subgradient optimization: A computational study, Mathematical\n",
    "    Programming, 12 (1980), 37-60.\n",
    "\n",
    "    Parameters\n",
    "    ----------\n",
    "    nrows : int\n",
    "        Desired number of rows\n",
    "    ncols : int\n",
    "        Desired number of columns\n",
    "    density: float between 0 (excluded) and 1 (included)\n",
    "        Desired density of the constraint matrix\n",
    "    filename: str\n",
    "        File to which the LP will be written\n",
    "    rng: numpy.random.RandomState\n",
    "        Random number generator\n",
    "    max_coef: int\n",
    "        Maximum objective coefficient (>=1)\n",
    "    \"\"\"\n",
    "    nnzrs = int(nrows * ncols * density)\n",
    "\n",
    "    assert nnzrs >= nrows  # at least 1 col per row\n",
    "    assert nnzrs >= 2 * ncols  # at leats 2 rows per col\n",
    "\n",
    "    # compute number of rows per column\n",
    "    indices = np.random.choice(ncols, size=nnzrs)  # random column indexes\n",
    "    indices[:2 * ncols] = np.repeat(np.arange(ncols), 2)  # force at leats 2 rows per col\n",
    "    _, col_nrows = np.unique(indices, return_counts=True)\n",
    "\n",
    "    # for each column, sample random rows\n",
    "    indices[:nrows] = np.random.permutation(nrows) # force at least 1 column per row\n",
    "    i = 0\n",
    "    indptr = [0]\n",
    "    for n in col_nrows:\n",
    "\n",
    "        # empty column, fill with random rows\n",
    "        if i >= nrows:\n",
    "            indices[i:i+n] = np.random.choice(nrows, size=n, replace=False)\n",
    "\n",
    "        # partially filled column, complete with random rows among remaining ones\n",
    "        elif i + n > nrows:\n",
    "            remaining_rows = np.setdiff1d(np.arange(nrows), indices[i:nrows], assume_unique=True)\n",
    "            indices[nrows:i+n] = np.random.choice(remaining_rows, size=i+n-nrows, replace=False)\n",
    "\n",
    "        i += n\n",
    "        indptr.append(i)\n",
    "\n",
    "    # objective coefficients\n",
    "    c = np.random.rand(ncols) * max_coef\n",
    "\n",
    "    # sparce CSC to sparse CSR matrix\n",
    "    A = scipy.sparse.csc_matrix(\n",
    "            (np.ones(len(indices), dtype=float), indices, indptr),\n",
    "            shape=(nrows, ncols)).toarray()\n",
    "    \n",
    "    A = -A\n",
    "    b = np.ones(nrows, dtype=np.float32) * -1\n",
    "    A = np.concatenate([A, np.eye(nrows, dtype=np.float32)], axis=1)\n",
    "    c = np.concatenate([c, np.zeros(nrows, dtype=np.float32)], axis=0)\n",
    "    \n",
    "    return A, b, c"
   ]
  },
  {
   "cell_type": "code",
   "execution_count": 3,
   "id": "7e9abd49-66a6-4172-99ad-40a4a8ed9fd5",
   "metadata": {
    "tags": []
   },
   "outputs": [],
   "source": [
    "import gzip\n",
    "import pickle\n",
    "import torch\n",
    "from scipy.linalg import LinAlgWarning\n",
    "from scipy.optimize._optimize import OptimizeWarning"
   ]
  },
  {
   "cell_type": "code",
   "execution_count": null,
   "id": "5351fa80-d502-4930-bf96-1e9b11a21f40",
   "metadata": {},
   "outputs": [],
   "source": [
    "import warnings\n",
    "warnings.filterwarnings(\"error\")\n",
    "\n",
    "ips = []\n",
    "max_iter = 120000\n",
    "num = 100000\n",
    "\n",
    "pkg_idx = 0\n",
    "\n",
    "success_cnt = 0\n",
    "fail_cnt = 0\n",
    "\n",
    "for i in tqdm(range(max_iter)):\n",
    "    A, b, c = generate_setcover(nrows=np.random.randint(30, 50), ncols=np.random.randint(50, 70), density=0.3, max_coef=1.)\n",
    "    \n",
    "    try:\n",
    "        res = linprog(c, \n",
    "                A_ub=None, \n",
    "                b_ub=None, \n",
    "                A_eq=A, b_eq=b, bounds=None, method='interior-point')\n",
    "    except (LinAlgWarning, OptimizeWarning):\n",
    "        fail_cnt += 1\n",
    "        continue\n",
    "    else:\n",
    "        if res.success:\n",
    "            ips.append((torch.from_numpy(A).to(torch.float), torch.from_numpy(b).to(torch.float), torch.from_numpy(c).to(torch.float)))\n",
    "            success_cnt += 1\n",
    "\n",
    "    if len(ips) >= 1000 or success_cnt == num:\n",
    "        with gzip.open(f'small_instances/raw/instance_{pkg_idx}.pkl.gz', \"wb\") as file:\n",
    "            pickle.dump(ips, file)\n",
    "            pkg_idx += 1\n",
    "        ips = []\n",
    "\n",
    "    if success_cnt >= num:\n",
    "        break"
   ]
  },
  {
   "cell_type": "code",
   "execution_count": null,
   "id": "cc40ccd2-79b9-4448-931c-3a7c35fb6ede",
   "metadata": {
    "tags": []
   },
   "outputs": [],
   "source": [
    "fail_cnt"
   ]
  },
  {
   "cell_type": "code",
   "execution_count": null,
   "id": "5a5f78f6-a891-4921-a69b-c7f4cfea6d6d",
   "metadata": {
    "tags": []
   },
   "outputs": [],
   "source": [
    "warnings.resetwarnings()"
   ]
  },
  {
   "cell_type": "code",
   "execution_count": null,
   "id": "f7a6435b-a561-42f4-9ce6-d687faf14984",
   "metadata": {},
   "outputs": [],
   "source": [
    "cnt = 0 \n",
    "for i in range(90, 100):\n",
    "    with gzip.open(f'small_instances/raw/instance_{i}.pkl.gz', \"rb\") as file:\n",
    "        ip_pkgs = pickle.load(file)\n",
    "\n",
    "    for ip_idx in range(len(ip_pkgs)):\n",
    "        cnt += 1\n",
    "        (A, b, c) = ip_pkgs[ip_idx]\n",
    "        c = c / c.max()  # does not change the result\n",
    "        \n",
    "        sol = linprog(c.numpy(),\n",
    "                      A_ub=None,\n",
    "                      b_ub=None,\n",
    "                      A_eq=A.numpy(), b_eq=b.numpy(), bounds=None,\n",
    "                      method='interior-point')"
   ]
  },
  {
   "cell_type": "code",
   "execution_count": null,
   "id": "bb299a87-99ec-425f-9c52-bbfbb0115732",
   "metadata": {},
   "outputs": [],
   "source": []
  }
 ],
 "metadata": {
  "kernelspec": {
   "display_name": "Python 3 (ipykernel)",
   "language": "python",
   "name": "python3"
  },
  "language_info": {
   "codemirror_mode": {
    "name": "ipython",
    "version": 3
   },
   "file_extension": ".py",
   "mimetype": "text/x-python",
   "name": "python",
   "nbconvert_exporter": "python",
   "pygments_lexer": "ipython3",
   "version": "3.10.11"
  }
 },
 "nbformat": 4,
 "nbformat_minor": 5
}
