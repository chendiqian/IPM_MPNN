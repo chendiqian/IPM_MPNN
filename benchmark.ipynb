{
 "cells": [
  {
   "cell_type": "code",
   "execution_count": 1,
   "id": "a5fac69c-25a0-4502-ad0c-609d7835536a",
   "metadata": {
    "tags": []
   },
   "outputs": [],
   "source": [
    "from solver import ipm_overleaf, ipm_chapter14\n",
    "import gzip\n",
    "import pickle\n",
    "\n",
    "from scipy.optimize import linprog\n",
    "import numpy as np\n",
    "import time"
   ]
  },
  {
   "cell_type": "code",
   "execution_count": 2,
   "id": "a3835c67-830e-4977-aee4-d6b83ffa8ee8",
   "metadata": {
    "tags": []
   },
   "outputs": [],
   "source": [
    "sp_var = []\n",
    "rel_err = []\n",
    "abs_err = []\n",
    "\n",
    "scp_obj = []\n",
    "abs_obj_err = []\n",
    "rel_obj_err = []"
   ]
  },
  {
   "cell_type": "code",
   "execution_count": 3,
   "id": "5ace4617-29af-47eb-8e88-9a19c3e32016",
   "metadata": {
    "tags": []
   },
   "outputs": [
    {
     "name": "stderr",
     "output_type": "stream",
     "text": [
      "  0%|                                                                                                                                                         | 0/1000 [00:00<?, ?it/s]/home/chendi/ipm_gnn/solver.py:352: UserWarning: Instability occured at iter 0, turning to lstsq\n",
      "  warnings.warn(f'Instability occured at iter {iteration}, turning to lstsq')\n",
      "  4%|████▎                                                                                                            | 38/1000 [00:00<00:01, 645.57it/s, lin_system_steps=0, obj=6.86]"
     ]
    },
    {
     "name": "stdout",
     "output_type": "stream",
     "text": [
      "0th problem - time: ours 0.07434415817260742, scipy 0.004148960113525391, var gap 1.2508253877108189e-09 steps: ours 38 scipy 9\n"
     ]
    },
    {
     "name": "stderr",
     "output_type": "stream",
     "text": [
      "\n",
      "/tmp/ipykernel_4559/2682378014.py:16: DeprecationWarning: `method='interior-point'` is deprecated and will be removed in SciPy 1.11.0. Please use one of the HiGHS solvers (e.g. `method='highs'`) in new code.\n",
      "  sol_cp = linprog(c,\n"
     ]
    }
   ],
   "source": [
    "for i in range(1):\n",
    "    with gzip.open(f\"small_instances/raw/instance_{i}.pkl.gz\", \"rb\") as file:\n",
    "        (A, b, c) = pickle.load(file)\n",
    "\n",
    "    c = c.numpy()\n",
    "    A_ub = None\n",
    "    b_ub = None\n",
    "    A_eq = A.numpy()\n",
    "    b_eq = b.numpy()\n",
    "    bounds = None\n",
    "    \n",
    "    t1 = time.time()\n",
    "    sol = ipm_overleaf(c, A_ub, b_ub, A_eq, b_eq, bounds, max_iter = 1000, tol = 1.e-9, lin_solver='scipy_cg')\n",
    "    t2 = time.time()\n",
    "    \n",
    "    sol_cp = linprog(c, \n",
    "                    A_ub=A_ub, \n",
    "                    b_ub=b_ub, \n",
    "                    A_eq=A_eq, b_eq=b_eq, bounds=bounds, method='interior-point')\n",
    "    \n",
    "    t3 = time.time()\n",
    "    \n",
    "    print(f'{i}th problem - time: ours {t2 - t1}, scipy {t3 - t2}, var gap {np.abs(sol[\"x\"] - sol_cp.x).max()} '\n",
    "          f'steps: ours {sol[\"nit\"]} scipy {sol_cp.nit}')\n",
    "    sp_var.append(sol_cp.x)\n",
    "    abs_err.append(np.abs(sol[\"x\"] - sol_cp.x))\n",
    "    rel_err.append(np.abs(sol[\"x\"] - sol_cp.x) / (sol_cp.x + 1.e-7))\n",
    "    scp_obj.append(sol_cp.fun)\n",
    "    abs_obj_err.append(np.abs(sol_cp.fun - sol['fun']))\n",
    "    rel_obj_err.append(np.abs(sol_cp.fun - sol['fun']) / sol_cp.fun)"
   ]
  },
  {
   "cell_type": "code",
   "execution_count": null,
   "id": "418e492f-4a1f-4786-a6c3-cb1f8806322c",
   "metadata": {
    "tags": []
   },
   "outputs": [],
   "source": [
    "sp_var = np.concatenate(sp_var, axis=0)\n",
    "rel_err = np.concatenate(rel_err, axis=0)\n",
    "abs_err = np.concatenate(abs_err, axis=0)"
   ]
  },
  {
   "cell_type": "code",
   "execution_count": null,
   "id": "09848d4c-9867-45f3-8dd8-b87795595661",
   "metadata": {
    "tags": []
   },
   "outputs": [],
   "source": [
    "scp_obj = np.array(scp_obj)\n",
    "abs_obj_err = np.array(abs_obj_err)\n",
    "rel_obj_err = np.array(rel_obj_err)"
   ]
  },
  {
   "cell_type": "code",
   "execution_count": null,
   "id": "e78703b1-129b-4fde-8887-89d890c781a2",
   "metadata": {
    "tags": []
   },
   "outputs": [],
   "source": [
    "import matplotlib.pyplot as plt\n",
    "import seaborn as sns"
   ]
  },
  {
   "cell_type": "code",
   "execution_count": null,
   "id": "c4195c9c-319b-4fa8-ac13-659a2bbb5b49",
   "metadata": {
    "tags": []
   },
   "outputs": [],
   "source": [
    "fig, axes = plt.subplots(2, 2, sharex=False, figsize=(12, 10))\n",
    "axes[0, 0].set_title('variable - rel err')\n",
    "sns.scatterplot(x=sp_var, y=rel_err * 100, ax=axes[0, 0])\n",
    "axes[0, 0].set_ylabel('rel err (%)')\n",
    "axes[0, 0].set_xlabel('x value')\n",
    "axes[0, 0].set_xscale('log')\n",
    "\n",
    "axes[0, 1].set_title('variable - abs err')\n",
    "sns.scatterplot(x=sp_var, y=abs_err, ax=axes[0, 1])\n",
    "axes[0, 1].set_ylabel('abs err')\n",
    "axes[0, 1].set_xlabel('x value')\n",
    "axes[0, 1].set_xscale('log')\n",
    "\n",
    "axes[1, 0].set_title('obj - rel err')\n",
    "sns.scatterplot(x=scp_obj, y=rel_obj_err * 100, ax=axes[1, 0])\n",
    "axes[1, 0].set_ylabel('rel err (%)')\n",
    "axes[1, 0].set_xlabel('obj value')\n",
    "\n",
    "axes[1, 1].set_title('obj - abs err')\n",
    "sns.scatterplot(x=scp_obj, y=abs_obj_err, ax=axes[1, 1])\n",
    "axes[1, 1].set_ylabel('abs err')\n",
    "axes[1, 1].set_xlabel('obj value')\n",
    "\n",
    "plt.savefig('subplot.png')"
   ]
  },
  {
   "cell_type": "code",
   "execution_count": null,
   "id": "e69a8eae-6c03-439d-9847-51a0004f3460",
   "metadata": {},
   "outputs": [],
   "source": []
  }
 ],
 "metadata": {
  "kernelspec": {
   "display_name": "Python 3 (ipykernel)",
   "language": "python",
   "name": "python3"
  },
  "language_info": {
   "codemirror_mode": {
    "name": "ipython",
    "version": 3
   },
   "file_extension": ".py",
   "mimetype": "text/x-python",
   "name": "python",
   "nbconvert_exporter": "python",
   "pygments_lexer": "ipython3",
   "version": "3.10.11"
  }
 },
 "nbformat": 4,
 "nbformat_minor": 5
}
