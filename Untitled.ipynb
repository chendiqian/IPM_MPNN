{
 "cells": [
  {
   "cell_type": "markdown",
   "id": "ad8cf627-c078-4ed9-ac64-6c1db1f3cab1",
   "metadata": {},
   "source": [
    "## to discuss\n",
    "1. update mu\n",
    "\n",
    "2. step size search\n",
    "\n",
    "3. correction"
   ]
  },
  {
   "cell_type": "code",
   "execution_count": 1,
   "id": "131d147d-b956-47c0-8f2a-13007b332641",
   "metadata": {
    "tags": []
   },
   "outputs": [
    {
     "name": "stdout",
     "output_type": "stream",
     "text": [
      "1.10.1\n"
     ]
    }
   ],
   "source": [
    "import scipy\n",
    "print(scipy.__version__)\n",
    "import numpy as np\n",
    "from copy import deepcopy"
   ]
  },
  {
   "cell_type": "code",
   "execution_count": 2,
   "id": "2bc30827-fbb9-462b-9277-eeeaaf154c78",
   "metadata": {
    "tags": []
   },
   "outputs": [],
   "source": [
    "c = np.array([-1, -2])\n",
    "A_ub = np.array([[2, 1], [-4., 5], [1., -2]])\n",
    "b_ub = np.array([20, 10, 2])\n",
    "A_eq = None\n",
    "b_eq = None\n",
    "bounds = None\n",
    "x0 = None  # Guess values of the decision variables\n",
    "integrality = None"
   ]
  },
  {
   "cell_type": "code",
   "execution_count": 3,
   "id": "eaaa0933-aacf-495b-85dc-a8da2aa74e09",
   "metadata": {
    "tags": []
   },
   "outputs": [],
   "source": [
    "from collections import namedtuple\n",
    "\n",
    "# https://github.com/scipy/scipy/blob/e574cbcabf8d25955d1aafeed02794f8b5f250cd/scipy/optimize/_linprog_util.py#L15\n",
    "_LPProblem = namedtuple('_LPProblem',\n",
    "                        'c A_ub b_ub A_eq b_eq bounds x0 integrality')\n",
    "_LPProblem.__new__.__defaults__ = (None,) * 7  # make c the only required arg"
   ]
  },
  {
   "cell_type": "code",
   "execution_count": null,
   "id": "9a4a060b-3bc4-447f-a78b-bbc20e8df1bc",
   "metadata": {},
   "outputs": [],
   "source": []
  },
  {
   "cell_type": "code",
   "execution_count": 4,
   "id": "17ef1125-6e68-4417-b82c-4959c5590c97",
   "metadata": {
    "tags": []
   },
   "outputs": [],
   "source": [
    "lp = _LPProblem(c, A_ub, b_ub, A_eq, b_eq, bounds, x0, integrality)"
   ]
  },
  {
   "cell_type": "code",
   "execution_count": 5,
   "id": "0bb9b22a-1117-459a-951e-1fe4b3b73935",
   "metadata": {
    "tags": []
   },
   "outputs": [
    {
     "data": {
      "text/plain": [
       "_LPProblem(c=array([-1, -2]), A_ub=array([[ 2.,  1.],\n",
       "       [-4.,  5.],\n",
       "       [ 1., -2.]]), b_ub=array([20, 10,  2]), A_eq=None, b_eq=None, bounds=None, x0=None, integrality=None)"
      ]
     },
     "execution_count": 5,
     "metadata": {},
     "output_type": "execute_result"
    }
   ],
   "source": [
    "lp"
   ]
  },
  {
   "cell_type": "code",
   "execution_count": null,
   "id": "7e296038-b176-4a62-a1eb-8e42fe96d1b6",
   "metadata": {},
   "outputs": [],
   "source": []
  },
  {
   "cell_type": "markdown",
   "id": "19ed95ca-0fa5-4b13-afe4-f330453f1b8e",
   "metadata": {},
   "source": [
    "# pre-process"
   ]
  },
  {
   "cell_type": "code",
   "execution_count": 6,
   "id": "0e966010-805e-4e16-9cae-82ebc56c55ea",
   "metadata": {
    "tags": []
   },
   "outputs": [],
   "source": [
    "from scipy.optimize._linprog_util import _parse_linprog, _check_sparse_inputs, _clean_inputs"
   ]
  },
  {
   "cell_type": "markdown",
   "id": "cce9d97e-626c-4de7-bc69-44f62209a759",
   "metadata": {},
   "source": [
    "`_parse_linprog` contains `_check_sparse_inputs` and `_clean_inputs`\n",
    "\n",
    "__todo__: sparsify not used, https://github.com/scipy/scipy/blob/main/scipy/optimize/_linprog_util.py#L91"
   ]
  },
  {
   "cell_type": "code",
   "execution_count": 7,
   "id": "15ecbb19-5ec0-4024-a0f1-39714d4ac6d3",
   "metadata": {
    "tags": []
   },
   "outputs": [],
   "source": [
    "lp = _clean_inputs(lp)"
   ]
  },
  {
   "cell_type": "code",
   "execution_count": 8,
   "id": "55944854-b36c-4e23-be45-d71343075ece",
   "metadata": {
    "tags": []
   },
   "outputs": [
    {
     "data": {
      "text/plain": [
       "_LPProblem(c=array([-1., -2.]), A_ub=array([[ 2.,  1.],\n",
       "       [-4.,  5.],\n",
       "       [ 1., -2.]]), b_ub=array([20., 10.,  2.]), A_eq=array([], shape=(0, 2), dtype=float64), b_eq=array([], dtype=float64), bounds=array([[ 0., inf],\n",
       "       [ 0., inf]]), x0=None, integrality=None)"
      ]
     },
     "execution_count": 8,
     "metadata": {},
     "output_type": "execute_result"
    }
   ],
   "source": [
    "lp"
   ]
  },
  {
   "cell_type": "code",
   "execution_count": null,
   "id": "3490bf86-0c33-4bc4-9c8e-a624270128b9",
   "metadata": {},
   "outputs": [],
   "source": []
  },
  {
   "cell_type": "code",
   "execution_count": 9,
   "id": "164acc5c-9719-47a3-a93a-eacb458ad6fa",
   "metadata": {
    "tags": []
   },
   "outputs": [],
   "source": [
    "iteration = 0\n",
    "complete = False  # will become True if solved in presolve\n",
    "undo = []"
   ]
  },
  {
   "cell_type": "code",
   "execution_count": 10,
   "id": "856e01f3-552d-48cf-b8e6-86fea8994dd6",
   "metadata": {
    "tags": []
   },
   "outputs": [],
   "source": [
    "# Keep the original arrays to calculate slack/residuals for original problem.\n",
    "lp_o = deepcopy(lp)"
   ]
  },
  {
   "cell_type": "code",
   "execution_count": 11,
   "id": "dc691ef8-2841-401c-9752-3b94ad2867ee",
   "metadata": {
    "tags": []
   },
   "outputs": [],
   "source": [
    "rr_method = None  # Method used to identify and remove redundant rows from the equality constraint matrix after presolve.\n",
    "rr = True  # Set to False to disable automatic redundancy removal. Default: True.\n",
    "tol = 1.e-9\n",
    "c0 = 0.  # Constant term in objective function due to fixed (and eliminated) variables."
   ]
  },
  {
   "cell_type": "code",
   "execution_count": 12,
   "id": "02d868e7-2078-43fa-814d-04c3864f77f8",
   "metadata": {
    "tags": []
   },
   "outputs": [
    {
     "data": {
      "text/plain": [
       "_LPProblem(c=array([-1., -2.]), A_ub=array([[ 2.,  1.],\n",
       "       [-4.,  5.],\n",
       "       [ 1., -2.]]), b_ub=array([20., 10.,  2.]), A_eq=array([], shape=(0, 2), dtype=float64), b_eq=array([], dtype=float64), bounds=array([[ 0., inf],\n",
       "       [ 0., inf]]), x0=None, integrality=None)"
      ]
     },
     "execution_count": 12,
     "metadata": {},
     "output_type": "execute_result"
    }
   ],
   "source": [
    "from scipy.optimize._linprog_util import _presolve\n",
    "# https://github.com/scipy/scipy/blob/main/scipy/optimize/_linprog_util.py#L477\n",
    "\n",
    "# identify trivial infeasibilities, redundancies, and unboundedness, tighten bounds where possible, and eliminate fixed variables\n",
    "(lp, c0, x, undo, complete, status, message) = _presolve(lp, rr, rr_method, tol)\n",
    "assert not complete\n",
    "lp"
   ]
  },
  {
   "cell_type": "markdown",
   "id": "d3d51782-7296-4a2e-a1d5-b816947246f8",
   "metadata": {},
   "source": [
    "0 : Optimization terminated successfully\n",
    "\n",
    "1 : Iteration limit reached\n",
    "\n",
    "2 : Problem appears to be infeasible\n",
    "\n",
    "3 : Problem appears to be unbounded\n",
    "\n",
    "4 : Serious numerical difficulties encountered"
   ]
  },
  {
   "cell_type": "code",
   "execution_count": 13,
   "id": "0747ce9f-79ea-4ee4-92e8-29946caa4c4f",
   "metadata": {
    "tags": []
   },
   "outputs": [],
   "source": [
    "C, b_scale = 1, 1  # for trivial unscaling if autoscale is not used\n",
    "postsolve_args = (lp_o._replace(bounds=lp.bounds), undo, C, b_scale)"
   ]
  },
  {
   "cell_type": "markdown",
   "id": "9f72c254-c753-4bd4-9bf2-b557bf953be8",
   "metadata": {},
   "source": [
    "# if not complete ..."
   ]
  },
  {
   "cell_type": "markdown",
   "id": "aa4bdceb-e568-4445-a67f-c8bdfc58d199",
   "metadata": {},
   "source": [
    "Return the problem in standard form:\n",
    "\n",
    "Minimize::\n",
    "\n",
    "    c @ x\n",
    "    \n",
    "Subject to::\n",
    "\n",
    "    A @ x == b\n",
    "    \n",
    "        x >= 0"
   ]
  },
  {
   "cell_type": "code",
   "execution_count": 14,
   "id": "e175d2b4-efeb-45c4-a436-b67a1c61d955",
   "metadata": {
    "tags": []
   },
   "outputs": [],
   "source": [
    "from scipy.optimize._linprog_util import _get_Abc, _autoscale"
   ]
  },
  {
   "cell_type": "code",
   "execution_count": 15,
   "id": "6b34c0ac-e45c-4ec6-b7d3-58b0fef2dcfe",
   "metadata": {
    "tags": []
   },
   "outputs": [
    {
     "data": {
      "text/plain": [
       "(array([[ 2.,  1.,  1.,  0.,  0.],\n",
       "        [-4.,  5.,  0.,  1.,  0.],\n",
       "        [ 1., -2.,  0.,  0.,  1.]]),\n",
       " array([20., 10.,  2.]),\n",
       " array([-1., -2.,  0.,  0.,  0.]),\n",
       " 0.0,\n",
       " None)"
      ]
     },
     "execution_count": 15,
     "metadata": {},
     "output_type": "execute_result"
    }
   ],
   "source": [
    "A, b, c, c0, x0 = _get_Abc(lp, c0)\n",
    "A, b, c, c0, x0"
   ]
  },
  {
   "cell_type": "code",
   "execution_count": 16,
   "id": "75845829-2288-4144-aecd-9b2a920193e3",
   "metadata": {
    "tags": []
   },
   "outputs": [],
   "source": [
    "autoscale = False  # Consider using this option if the numerical values in the constraints are separated by several orders of magnitude.\n",
    "if autoscale:\n",
    "    A, b, c, x0, C, b_scale = _autoscale(A, b, c, x0)\n",
    "    postsolve_args = postsolve_args[:-2] + (C, b_scale)"
   ]
  },
  {
   "cell_type": "markdown",
   "id": "9ba4b725-859e-48f2-b672-fa100d226bb4",
   "metadata": {},
   "source": [
    "# perform Interior_Point_Method!"
   ]
  },
  {
   "cell_type": "markdown",
   "id": "7f6e7aaa-4b94-4f4a-8b26-170c3eddcee4",
   "metadata": {},
   "source": [
    "scipy has a lot of options in case of numerical problems, see https://github.com/scipy/scipy/blob/main/scipy/optimize/_linprog_ip.py#L824"
   ]
  },
  {
   "cell_type": "markdown",
   "id": "40daabe7-91a7-4b57-9852-b127040c22cc",
   "metadata": {},
   "source": [
    "## init solution and step size"
   ]
  },
  {
   "cell_type": "code",
   "execution_count": 17,
   "id": "b5cf6d35-17bc-43b6-ac0d-ede6c443c495",
   "metadata": {
    "tags": []
   },
   "outputs": [],
   "source": [
    "from scipy.linalg import cho_factor, cho_solve"
   ]
  },
  {
   "cell_type": "code",
   "execution_count": 18,
   "id": "bf24e879-cec8-4fdf-aa59-53131f097d43",
   "metadata": {
    "tags": []
   },
   "outputs": [],
   "source": [
    "def _get_blind_start(A, b, c):\n",
    "    \"\"\"\n",
    "    similar to https://github.com/scipy/scipy/blob/main/scipy/optimize/_linprog_ip.py#L436\n",
    "    but we don't have tau and kappa variables\n",
    "    \n",
    "    x: primal solution\n",
    "    lambda: dual solution\n",
    "    s: dual slack\n",
    "    \"\"\"\n",
    "    a_at_inv = cho_factor(A @ A.T)\n",
    "    x_tilde = A.T @ cho_solve(a_at_inv, b)\n",
    "    lambda_tilde = cho_solve(a_at_inv, A @ c)\n",
    "    s_tilde = c - A.T @ lambda_tilde\n",
    "    \n",
    "    delta_x = max(0, - 1.5 * np.min(x_tilde))\n",
    "    delta_s = max(0, - 1.5 * np.min(s_tilde))\n",
    "    \n",
    "    x_cap = x_tilde + delta_x\n",
    "    s_cap = s_tilde + delta_s\n",
    "    \n",
    "    delta_x_cap = 0.5 * np.dot(x_cap, s_cap) / np.sum(s_cap)\n",
    "    delta_s_cap = 0.5 * np.dot(x_cap, s_cap) / np.sum(x_cap)\n",
    "    \n",
    "    x0 = x_cap + delta_x_cap\n",
    "    lambda0 = lambda_tilde\n",
    "    s0 = s_cap + delta_s_cap\n",
    "\n",
    "    # x0 = np.ones(A.shape[1])\n",
    "    # lambda0 = np.zeros(A.shape[0])\n",
    "    # s0 = np.ones(A.shape[1])\n",
    "    return x0, lambda0, s0"
   ]
  },
  {
   "cell_type": "markdown",
   "id": "2b76fc90-f453-48f4-8f13-f4b0437db1e5",
   "metadata": {},
   "source": [
    "__todo__: set an option for heuristic initialization"
   ]
  },
  {
   "cell_type": "code",
   "execution_count": 19,
   "id": "8954f0c1-ab7d-4f3f-8ac5-b56844a4362f",
   "metadata": {
    "tags": []
   },
   "outputs": [],
   "source": [
    "x, lambd, s = _get_blind_start(A, b, c)"
   ]
  },
  {
   "cell_type": "code",
   "execution_count": 20,
   "id": "3cfc8284-3b09-4875-aa87-e6f6ed585567",
   "metadata": {
    "tags": []
   },
   "outputs": [
    {
     "data": {
      "text/plain": [
       "(array([ 7.27104983,  7.66112075,  7.27814203,  5.51927678, 10.05119167]),\n",
       " array([0.31471631, 0.33953901, 1.29698582, 0.69414894, 0.3643617 ]))"
      ]
     },
     "execution_count": 20,
     "metadata": {},
     "output_type": "execute_result"
    }
   ],
   "source": [
    "x, s"
   ]
  },
  {
   "cell_type": "code",
   "execution_count": 21,
   "id": "f88623c6-c49b-46cd-9cad-902321fbae19",
   "metadata": {
    "tags": []
   },
   "outputs": [],
   "source": [
    "SMALL_EPS = 1.e-7\n",
    "\n",
    "def r_b(A, x, b):\n",
    "    return A @ x - b\n",
    "\n",
    "def r_c(A, lambd, s, c):\n",
    "    return A.T @ lambd + s - c\n",
    "\n",
    "def r_xs(x, s, sigma):\n",
    "    return x * s - sigma * mu(x, s)\n",
    "\n",
    "def mu(x, s):\n",
    "    return x.dot(s) / len(x)"
   ]
  },
  {
   "cell_type": "code",
   "execution_count": null,
   "id": "4bd727e9-d85f-4da8-95f4-25867e57822d",
   "metadata": {},
   "outputs": [],
   "source": []
  },
  {
   "cell_type": "code",
   "execution_count": null,
   "id": "5cc1b111-2153-4dfb-9883-3bace9c70f90",
   "metadata": {},
   "outputs": [],
   "source": []
  },
  {
   "cell_type": "markdown",
   "id": "082cd728-dc12-4b30-be0c-50a2b330fbc3",
   "metadata": {},
   "source": [
    "## solve the linear system"
   ]
  },
  {
   "cell_type": "code",
   "execution_count": 22,
   "id": "16acac85-6c15-4003-bc0f-0bdd2d60ec21",
   "metadata": {
    "tags": []
   },
   "outputs": [],
   "source": [
    "max_iter = 100\n",
    "tol = 1.e-6"
   ]
  },
  {
   "cell_type": "code",
   "execution_count": 23,
   "id": "82c0f7c2-8286-4ec7-ae56-90a60ddaa8a4",
   "metadata": {
    "tags": []
   },
   "outputs": [],
   "source": [
    "last_x = x"
   ]
  },
  {
   "cell_type": "code",
   "execution_count": 24,
   "id": "f9dadbae-3f73-4105-8120-4bd3cc8d29c5",
   "metadata": {
    "tags": []
   },
   "outputs": [],
   "source": [
    "from scipy.optimize._linprog_util import _postsolve"
   ]
  },
  {
   "cell_type": "code",
   "execution_count": 25,
   "id": "05c57942-5d82-4c6b-a4c1-df1ef71a4c24",
   "metadata": {
    "tags": []
   },
   "outputs": [
    {
     "name": "stdout",
     "output_type": "stream",
     "text": [
      "(array([6.43713085, 6.66414153]), -19.76541390791891)\n",
      "(array([6.43579929, 7.10667417]), -20.649147621698873)\n",
      "(array([6.42898908, 7.14077267]), -20.71053442445976)\n",
      "(array([6.42859063, 7.14276129]), -20.714113218853306)\n",
      "(array([6.42857208, 7.14285391]), -20.71427989523012)\n",
      "(array([6.42857146, 7.14285699]), -20.714285430606985)\n"
     ]
    }
   ],
   "source": [
    "for iteration in range(max_iter):\n",
    "    _mu = mu(x, s)\n",
    "    S_inv = np.diag((s + SMALL_EPS) ** -1)\n",
    "    s_inv = (s + SMALL_EPS) ** -1\n",
    "    X = np.diag(x)\n",
    "    XS_inv = X @ S_inv\n",
    "    M = A @ XS_inv @ A.T\n",
    "    c_and_lower = cho_factor(M)\n",
    "    sigma = np.random.rand(1)\n",
    "    \n",
    "    # affine\n",
    "    rhs = b - A @ x + A @ XS_inv @ (- A.T @ lambd + c)\n",
    "    grad_lambda_aff = cho_solve(c_and_lower, rhs)\n",
    "    grad_s_aff = - A.T @ (lambd + grad_lambda_aff) - s + c\n",
    "    grad_x_aff = -x - XS_inv @ grad_s_aff\n",
    "    \n",
    "    alpha_prime_aff = 1.\n",
    "    if np.any(grad_x_aff < 0):\n",
    "        alpha_prime_aff = min(1, (-x[grad_x_aff < 0] / grad_x_aff[grad_x_aff < 0]).min())\n",
    "    alpha_dual_aff = 1.\n",
    "    if np.any(grad_s_aff < 0):\n",
    "        alpha_dual_aff = min(1, (-s[grad_s_aff < 0] / grad_s_aff[grad_s_aff < 0]).min())\n",
    "    \n",
    "    mu_aff = np.dot(x + alpha_prime_aff * grad_x_aff, s + alpha_dual_aff * grad_s_aff) / len(x)\n",
    "    sigma = (mu_aff / _mu) ** 3\n",
    "    \n",
    "    rhs = b - A @ x + A @ XS_inv @ (- A.T @ lambd + c) + A @ S_inv @ (grad_s_aff * grad_x_aff - sigma * _mu)\n",
    "    grad_lambda = cho_solve(c_and_lower, rhs)\n",
    "    grad_s = - A.T @ (lambd + grad_lambda) - s + c\n",
    "    grad_x = - S_inv @ (x * s + grad_s_aff * grad_x_aff - sigma * _mu) - XS_inv @ grad_s\n",
    "    \n",
    "    alpha_prime_max = 1.\n",
    "    if np.any(grad_x < 0):\n",
    "        alpha_prime_max = min(1, (-x[grad_x < 0] / grad_x[grad_x < 0]).min())\n",
    "    alpha_dual_max = 1.\n",
    "    if np.any(grad_s < 0):\n",
    "        alpha_dual_max = min(1, (-s[grad_s < 0] / grad_s[grad_s < 0]).min())\n",
    "    \n",
    "    eta = 1 - np.random.rand(1) * 0.1\n",
    "    alpha_prime = min(1, eta * alpha_prime_max)\n",
    "    alpha_dual = min(1, eta * alpha_dual_max)\n",
    "    \n",
    "    x = x + alpha_prime * grad_x\n",
    "    lambd = lambd + alpha_dual * grad_lambda\n",
    "    s = s + alpha_dual * grad_s\n",
    "    \n",
    "    if np.abs(x - last_x).max() < tol:\n",
    "        break\n",
    "    last_x = x\n",
    "    \n",
    "    print(_postsolve(x, postsolve_args)[:2])"
   ]
  },
  {
   "cell_type": "code",
   "execution_count": null,
   "id": "57254ef7-ffdf-46d2-9fc1-56bd5c0279b2",
   "metadata": {},
   "outputs": [],
   "source": []
  },
  {
   "cell_type": "code",
   "execution_count": null,
   "id": "2bd855e6-544b-460f-8471-7791ce1f1e24",
   "metadata": {},
   "outputs": [],
   "source": []
  },
  {
   "cell_type": "markdown",
   "id": "ac97f50b-60f1-4771-b72a-e47f33c21b32",
   "metadata": {
    "tags": []
   },
   "source": [
    "# post-process"
   ]
  },
  {
   "cell_type": "markdown",
   "id": "fd1e175a-969f-49a5-a0e2-2f687765a088",
   "metadata": {
    "tags": []
   },
   "source": [
    "https://github.com/scipy/scipy/blob/main/scipy/optimize/_linprog.py#L694"
   ]
  },
  {
   "cell_type": "code",
   "execution_count": 26,
   "id": "72a07d2f-af82-415a-8509-2670ff564a14",
   "metadata": {
    "tags": []
   },
   "outputs": [
    {
     "data": {
      "text/plain": [
       "{'x': array([6.42857143, 7.14285715]),\n",
       " 'fun': -20.71428572692828,\n",
       " 'slack': array([-1.57084443e-08,  9.07126463e-09,  9.85714286e+00]),\n",
       " 'con': array([], dtype=float64),\n",
       " 'nit': 6}"
      ]
     },
     "execution_count": 26,
     "metadata": {},
     "output_type": "execute_result"
    }
   ],
   "source": [
    "x, fun, slack, con = _postsolve(x, postsolve_args)\n",
    "\n",
    "sol = {\n",
    "    'x': x,\n",
    "    'fun': fun,\n",
    "    'slack': slack,\n",
    "    'con': con,\n",
    "    'nit': iteration}\n",
    "\n",
    "sol"
   ]
  },
  {
   "cell_type": "code",
   "execution_count": null,
   "id": "293350f3-c0f2-4352-b3be-a3fb5adc360e",
   "metadata": {},
   "outputs": [],
   "source": []
  }
 ],
 "metadata": {
  "kernelspec": {
   "display_name": "Python 3 (ipykernel)",
   "language": "python",
   "name": "python3"
  },
  "language_info": {
   "codemirror_mode": {
    "name": "ipython",
    "version": 3
   },
   "file_extension": ".py",
   "mimetype": "text/x-python",
   "name": "python",
   "nbconvert_exporter": "python",
   "pygments_lexer": "ipython3",
   "version": "3.10.10"
  }
 },
 "nbformat": 4,
 "nbformat_minor": 5
}
