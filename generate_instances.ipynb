{
 "cells": [
  {
   "cell_type": "code",
   "execution_count": 1,
   "id": "86067865-0742-4b44-a0e2-bc87447a977a",
   "metadata": {
    "tags": []
   },
   "outputs": [],
   "source": [
    "%load_ext autoreload\n",
    "%autoreload 2"
   ]
  },
  {
   "cell_type": "code",
   "execution_count": 2,
   "id": "c613b1ca-4366-4c13-b0d4-47e581195d5b",
   "metadata": {
    "tags": []
   },
   "outputs": [],
   "source": [
    "from scipy_solver.linprog import linprog\n",
    "from tqdm import tqdm\n",
    "\n",
    "import gzip\n",
    "import pickle\n",
    "import torch\n",
    "from scipy.linalg import LinAlgWarning\n",
    "from scipy.optimize._optimize import OptimizeWarning\n",
    "import warnings\n",
    "import numpy as np\n",
    "from functools import partial\n",
    "\n",
    "from generate_instances import generate_setcover, Graph, generate_indset, generate_cauctions, generate_capacited_facility_location"
   ]
  },
  {
   "cell_type": "code",
   "execution_count": 14,
   "id": "5253b78c-64f5-4b2d-b4d9-fd7107bbdebd",
   "metadata": {
    "tags": []
   },
   "outputs": [],
   "source": [
    "rng = np.random.RandomState(1)"
   ]
  },
  {
   "cell_type": "code",
   "execution_count": 15,
   "id": "cf0211f2-c698-4e9e-8cb6-5649c22f7c23",
   "metadata": {
    "tags": []
   },
   "outputs": [],
   "source": [
    "bounds = (0., 1.)"
   ]
  },
  {
   "cell_type": "code",
   "execution_count": 16,
   "id": "ca5baa7a-a9fa-41b9-aa05-755f29c333b1",
   "metadata": {
    "tags": []
   },
   "outputs": [],
   "source": [
    "root = '/mnt/d/ineq_fac_instances_7'"
   ]
  },
  {
   "cell_type": "markdown",
   "id": "22b2dfbe-1ca0-4fda-b22f-b356c25a8e9b",
   "metadata": {},
   "source": [
    "### Setcover"
   ]
  },
  {
   "cell_type": "code",
   "execution_count": null,
   "id": "98b27565-ab4d-4872-8798-0050a16cfaa2",
   "metadata": {
    "tags": []
   },
   "outputs": [],
   "source": [
    "density=0.05\n",
    "nrows_l = 900\n",
    "nrows_u = 1100\n",
    "ncols_l = 500\n",
    "ncols_u = 700\n",
    "\n",
    "surrogate_gen = partial(generate_setcover, nrows_l=nrows_l, nrows_u=nrows_u, ncols_l=ncols_l, ncols_u=ncols_u, density=density, rng=rng)"
   ]
  },
  {
   "cell_type": "markdown",
   "id": "8feba305-fe78-4c36-9e05-c9925320ce8f",
   "metadata": {},
   "source": [
    "### Indset"
   ]
  },
  {
   "cell_type": "code",
   "execution_count": null,
   "id": "d011cf5b-7a78-4eee-bec4-4c95e823787f",
   "metadata": {},
   "outputs": [],
   "source": [
    "def surrogate_gen():\n",
    "    nnodes = rng.randint(600, 800)\n",
    "    graph = Graph.barabasi_albert(number_of_nodes=nnodes, affinity=2, random=rng)\n",
    "    A, b, c = generate_indset(graph=graph, nnodes=nnodes)\n",
    "    return A, b, c"
   ]
  },
  {
   "cell_type": "markdown",
   "id": "5b10bae9-954f-4f8d-891b-c11ef61e61d2",
   "metadata": {},
   "source": [
    "### Cauctions"
   ]
  },
  {
   "cell_type": "code",
   "execution_count": null,
   "id": "409d4b02-d2c1-4765-9137-e840fd511ad0",
   "metadata": {},
   "outputs": [],
   "source": [
    "n_items=600\n",
    "n_bids=500\n",
    "\n",
    "surrogate_gen = partial(generate_cauctions, n_items=n_items, n_bids=n_bids, rng=rng, min_value=0.001, max_value=0.1)"
   ]
  },
  {
   "cell_type": "markdown",
   "id": "70957397-d822-4a34-b05d-8eeeba50214a",
   "metadata": {},
   "source": [
    "### Facilities"
   ]
  },
  {
   "cell_type": "code",
   "execution_count": 17,
   "id": "54e45f1f-07de-42ac-8d2d-2c1ac4c5f8d8",
   "metadata": {},
   "outputs": [],
   "source": [
    "def surrogate_gen():\n",
    "    n_customers = np.random.randint(30, 35)\n",
    "    n_facilities = np.random.randint(20, 30)\n",
    "    ratio = 5\n",
    "    A, b, c = generate_capacited_facility_location(n_customers=n_customers, n_facilities=n_facilities, ratio=ratio, rng=rng)\n",
    "    return A, b, c"
   ]
  },
  {
   "cell_type": "markdown",
   "id": "4ca1c9c7-11ba-4d53-80a3-1d6b3e8cfc53",
   "metadata": {},
   "source": [
    "## create"
   ]
  },
  {
   "cell_type": "code",
   "execution_count": null,
   "id": "f427d670-75f4-4085-9c67-2631b013ba9e",
   "metadata": {},
   "outputs": [],
   "source": [
    "warnings.filterwarnings(\"error\")\n",
    "\n",
    "ips = []\n",
    "pkg_idx = 0\n",
    "success_cnt = 0\n",
    "fail_cnt = 0\n",
    "\n",
    "max_iter = 15000\n",
    "num = 1000\n",
    "\n",
    "for i in tqdm(range(max_iter)):\n",
    "    A, b, c = surrogate_gen()\n",
    "    \n",
    "    try:\n",
    "        A_eq = None\n",
    "        b_eq = None\n",
    "        A_ub = A\n",
    "        b_ub = b\n",
    "        res = linprog(c, \n",
    "                A_ub=A_ub,\n",
    "                b_ub=b_ub,\n",
    "                A_eq=A_eq, b_eq=b_eq, bounds=bounds, method='interior-point')\n",
    "    except (LinAlgWarning, OptimizeWarning, AssertionError):\n",
    "        fail_cnt += 1\n",
    "        continue\n",
    "    else:\n",
    "        if res.success and not np.isnan(res.fun):\n",
    "            ips.append((torch.from_numpy(A).to(torch.float), torch.from_numpy(b).to(torch.float), torch.from_numpy(c).to(torch.float)))\n",
    "            success_cnt += 1\n",
    "\n",
    "    if len(ips) >= 1000 or success_cnt == num:\n",
    "        with gzip.open(f'{root}/raw/instance_{pkg_idx}.pkl.gz', \"wb\") as file:\n",
    "            pickle.dump(ips, file)\n",
    "            pkg_idx += 1\n",
    "        ips = []\n",
    "\n",
    "    if success_cnt >= num:\n",
    "        break\n",
    "\n",
    "warnings.resetwarnings()"
   ]
  },
  {
   "cell_type": "code",
   "execution_count": null,
   "id": "c296d62f-7834-4c00-8d59-9ce500287f11",
   "metadata": {},
   "outputs": [],
   "source": []
  },
  {
   "cell_type": "markdown",
   "id": "65ee2477-0089-45c4-a205-88247a9b67a3",
   "metadata": {},
   "source": [
    "## create and graphize"
   ]
  },
  {
   "cell_type": "code",
   "execution_count": 7,
   "id": "b471809e-0425-49b2-81e8-3d1fa160a8d5",
   "metadata": {
    "tags": []
   },
   "outputs": [],
   "source": [
    "import os\n",
    "import os.path as osp\n",
    "from typing import Callable, List, Optional\n",
    "\n",
    "from torch_geometric.data import Data, Batch, HeteroData, InMemoryDataset\n",
    "from torch_sparse import SparseTensor"
   ]
  },
  {
   "cell_type": "code",
   "execution_count": 8,
   "id": "ead395d0-3c51-499a-ad69-97c979169adb",
   "metadata": {
    "tags": []
   },
   "outputs": [],
   "source": [
    "from torch_geometric.transforms import Compose\n",
    "from data.data_preprocess import HeteroAddLaplacianEigenvectorPE, SubSample"
   ]
  },
  {
   "cell_type": "code",
   "execution_count": 9,
   "id": "6240baee-abbf-48c3-8b3c-01cd13a81a3c",
   "metadata": {
    "tags": []
   },
   "outputs": [],
   "source": [
    "pre_transform=Compose([HeteroAddLaplacianEigenvectorPE(k=5),\n",
    "                                                     SubSample(8)])"
   ]
  },
  {
   "cell_type": "code",
   "execution_count": null,
   "id": "bd430e7e-bc6e-4d8e-a014-2f3c768e9c04",
   "metadata": {
    "tags": []
   },
   "outputs": [],
   "source": [
    "warnings.filterwarnings(\"error\")\n",
    "\n",
    "ips = []\n",
    "data_list = []\n",
    "pkg_idx = 0\n",
    "pkg_size = 100\n",
    "success_cnt = 0\n",
    "fail_cnt = 0\n",
    "\n",
    "max_iter = 120\n",
    "num = 100\n",
    "\n",
    "for i in tqdm(range(max_iter)):\n",
    "    A, b, c = surrogate_gen()\n",
    "    c = c / (np.abs(c).max() + 1.e-10)  # does not change the result\n",
    "    \n",
    "    try:\n",
    "        A_eq = None\n",
    "        b_eq = None\n",
    "        A_ub = A\n",
    "        b_ub = b\n",
    "        \n",
    "        sol = linprog(c,\n",
    "                      A_ub=A_ub,\n",
    "                      b_ub=b_ub,\n",
    "                      A_eq=A_eq, b_eq=b_eq, bounds=bounds,\n",
    "                      method='interior-point', callback=lambda res: res.x)\n",
    "        \n",
    "    except (LinAlgWarning, OptimizeWarning, AssertionError):\n",
    "        fail_cnt += 1\n",
    "        continue\n",
    "    else:\n",
    "        if sol.success and not np.isnan(sol.fun):\n",
    "            ips.append((torch.from_numpy(A).to(torch.float), torch.from_numpy(b).to(torch.float), torch.from_numpy(c).to(torch.float)))\n",
    "            success_cnt += 1\n",
    "            \n",
    "            (A, b, c) = ips[-1]\n",
    "            \n",
    "            sp_a = SparseTensor.from_dense(A, has_value=True)\n",
    "            \n",
    "            row = sp_a.storage._row\n",
    "            col = sp_a.storage._col\n",
    "            val = sp_a.storage._value\n",
    "\n",
    "            tilde_mask = torch.ones(row.shape, dtype=torch.bool)\n",
    "            \n",
    "            x = np.stack(sol.intermediate, axis=1)\n",
    "            gt_primals = torch.from_numpy(x).to(torch.float)\n",
    "            \n",
    "            \n",
    "            data = HeteroData(\n",
    "                cons={'x': torch.cat([A.mean(1, keepdims=True),\n",
    "                                      A.std(1, keepdims=True)], dim=1)},\n",
    "                vals={'x': torch.cat([A.mean(0, keepdims=True),\n",
    "                                      A.std(0, keepdims=True)], dim=0).T},\n",
    "                obj={'x': torch.cat([c.mean(0, keepdims=True),\n",
    "                                     c.std(0, keepdims=True)], dim=0)[None]},\n",
    "\n",
    "                cons__to__vals={'edge_index': torch.vstack(torch.where(A)),\n",
    "                                'edge_attr': A[torch.where(A)][:, None]},\n",
    "                vals__to__cons={'edge_index': torch.vstack(torch.where(A.T)),\n",
    "                                'edge_attr': A.T[torch.where(A.T)][:, None]},\n",
    "                vals__to__obj={'edge_index': torch.vstack([torch.arange(A.shape[1]),\n",
    "                                                           torch.zeros(A.shape[1], dtype=torch.long)]),\n",
    "                               'edge_attr': c[:, None]},\n",
    "                obj__to__vals={'edge_index': torch.vstack([torch.zeros(A.shape[1], dtype=torch.long),\n",
    "                                                           torch.arange(A.shape[1])]),\n",
    "                               'edge_attr': c[:, None]},\n",
    "                cons__to__obj={'edge_index': torch.vstack([torch.arange(A.shape[0]),\n",
    "                                                           torch.zeros(A.shape[0], dtype=torch.long)]),\n",
    "                               'edge_attr': b[:, None]},\n",
    "                obj__to__cons={'edge_index': torch.vstack([torch.zeros(A.shape[0], dtype=torch.long),\n",
    "                                                           torch.arange(A.shape[0])]),\n",
    "                               'edge_attr': b[:, None]},\n",
    "                gt_primals=gt_primals,\n",
    "                # gt_duals=gt_duals,\n",
    "                # gt_slacks=gt_slacks,\n",
    "                obj_value=torch.tensor(sol['fun'].astype(np.float32)),\n",
    "                obj_const=c,\n",
    "\n",
    "                A_row=row,\n",
    "                A_col=col,\n",
    "                A_val=val,\n",
    "                A_num_row=A.shape[0],\n",
    "                A_num_col=A.shape[1],\n",
    "                A_nnz=len(val),\n",
    "                A_tilde_mask=tilde_mask,\n",
    "                rhs=b)\n",
    "            \n",
    "            data = pre_transform(data)\n",
    "            data_list.append(data)\n",
    "\n",
    "    if len(ips) >= pkg_size or success_cnt == num:\n",
    "        with gzip.open(f'{root}/raw/instance_{pkg_idx}.pkl.gz', \"wb\") as file:\n",
    "            pickle.dump(ips, file)\n",
    "            \n",
    "        ips = []\n",
    "        \n",
    "        torch.save(Batch.from_data_list(data_list), osp.join(f'{root}/processed_1restarts_5lap_8steps_upper_1.0', f'batch{pkg_idx}.pt'))\n",
    "        data_list = []\n",
    "        \n",
    "        pkg_idx += 1\n",
    "\n",
    "    if success_cnt >= num:\n",
    "        break\n",
    "\n",
    "warnings.resetwarnings()"
   ]
  },
  {
   "cell_type": "code",
   "execution_count": null,
   "id": "649c32f2-c84f-429a-92f3-3b7dc6f2cf76",
   "metadata": {},
   "outputs": [],
   "source": []
  }
 ],
 "metadata": {
  "kernelspec": {
   "display_name": "Python 3 (ipykernel)",
   "language": "python",
   "name": "python3"
  },
  "language_info": {
   "codemirror_mode": {
    "name": "ipython",
    "version": 3
   },
   "file_extension": ".py",
   "mimetype": "text/x-python",
   "name": "python",
   "nbconvert_exporter": "python",
   "pygments_lexer": "ipython3",
   "version": "3.10.11"
  }
 },
 "nbformat": 4,
 "nbformat_minor": 5
}
