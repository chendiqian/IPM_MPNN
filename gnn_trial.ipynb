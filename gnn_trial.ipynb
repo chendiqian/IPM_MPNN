{
 "cells": [
  {
   "cell_type": "code",
   "execution_count": null,
   "id": "2033cda1-0a36-4d22-8bce-b20da302fc91",
   "metadata": {
    "tags": []
   },
   "outputs": [],
   "source": [
    "%load_ext autoreload\n",
    "%autoreload 2"
   ]
  },
  {
   "cell_type": "code",
   "execution_count": null,
   "id": "94f124ab-4f80-4ef8-95a7-bd9ae8f1b451",
   "metadata": {
    "tags": []
   },
   "outputs": [],
   "source": [
    "from solver import ipm_overleaf, ipm_chapter14\n",
    "import gzip\n",
    "import pickle\n",
    "\n",
    "from scipy.optimize import linprog\n",
    "import numpy as np\n",
    "import time\n",
    "\n",
    "import torch\n",
    "from tqdm import tqdm"
   ]
  },
  {
   "cell_type": "code",
   "execution_count": null,
   "id": "62e79497-624d-41e6-9dc1-28757badc79a",
   "metadata": {
    "tags": []
   },
   "outputs": [],
   "source": [
    "with gzip.open(f\"instances/setcover/instance_{0}.pkl.gz\", \"rb\") as file:\n",
    "    (A, b, c) = pickle.load(file)\n",
    "\n",
    "sol = ipm_overleaf(c.numpy(), None, None, A.numpy(), b.numpy(), None, max_iter = 1000, tol = 1.e-9)"
   ]
  },
  {
   "cell_type": "code",
   "execution_count": null,
   "id": "6df49494-1674-47bb-90b7-40f4f2b6e5fa",
   "metadata": {},
   "outputs": [],
   "source": []
  },
  {
   "cell_type": "code",
   "execution_count": null,
   "id": "b6ad0c34-5103-4a3e-ad5a-9035a02aaddf",
   "metadata": {},
   "outputs": [],
   "source": [
    "x, l, s =zip(*sol['xs'])\n",
    "x = np.vstack(x)\n",
    "l = np.vstack(l)\n",
    "s = np.vstack(s)\n",
    "\n",
    "gt_vals = torch.from_numpy(np.stack([x, s], axis=-1)).to(torch.float).cuda()\n",
    "gt_cons = torch.from_numpy(l).to(torch.float).cuda()\n",
    "\n",
    "gt_vals = torch.nn.functional.normalize(gt_vals, p=2.0, dim=2)\n",
    "gt_cons = torch.nn.functional.normalize(gt_cons, p=2.0, dim=(0, 1))\n",
    "\n",
    "gt_vals = gt_vals[torch.tensor([0, 5, 10, 15, 20, 25, 30, 34]).cuda()]\n",
    "gt_cons = gt_cons[torch.tensor([0, 5, 10, 15, 20, 25, 30, 34]).cuda()]"
   ]
  },
  {
   "cell_type": "code",
   "execution_count": null,
   "id": "91f4502a-2e72-4d90-96fb-9f7c09773891",
   "metadata": {},
   "outputs": [],
   "source": []
  },
  {
   "cell_type": "code",
   "execution_count": null,
   "id": "dc1b8cde-81f3-4c22-a169-923f409cfe96",
   "metadata": {
    "tags": []
   },
   "outputs": [],
   "source": [
    "from torch_geometric.data import HeteroData\n",
    "\n",
    "torch.manual_seed(12)\n",
    "data = HeteroData(\n",
    "                  cons={'x': torch.randn(A.shape[0], 2, dtype=torch.float)},\n",
    "                  vals={'x': torch.randn(A.shape[1], 2, dtype=torch.float)},\n",
    "                  obj={'x': torch.rand(1, 2, dtype=torch.float)},\n",
    "                  \n",
    "                  # cons={'x': torch.cat([A.mean(1, keepdims=True), \n",
    "                  #                       A.std(1, keepdims=True)], dim=1)},\n",
    "                  # vals={'x': torch.cat([A.mean(0, keepdims=True), \n",
    "                  #                       A.std(0, keepdims=True)], dim=0).T},\n",
    "                  # obj={'x': torch.cat([c.mean(0, keepdims=True), \n",
    "                  #                       c.std(0, keepdims=True)], dim=0)[None]},\n",
    "                  \n",
    "                  cons__to__vals={'edge_index': torch.vstack(torch.where(A)),\n",
    "                                'edge_weight': A[torch.where(A)][:, None]},\n",
    "                  vals__to__cons={'edge_index': torch.vstack(torch.where(A.T)),\n",
    "                                'edge_weight': A.T[torch.where(A.T)][:, None]},\n",
    "                  vals__to__obj={'edge_index': torch.vstack([torch.arange(A.shape[1]), torch.zeros(A.shape[1], dtype=torch.long)]),\n",
    "                               'edge_weight': torch.nn.functional.normalize(c, p=2.0, dim=0)[:, None]},\n",
    "                  obj__to__vals={'edge_index': torch.vstack([torch.zeros(A.shape[1], dtype=torch.long), torch.arange(A.shape[1])]),\n",
    "                               'edge_weight': torch.nn.functional.normalize(c, p=2.0, dim=0)[:, None]},\n",
    "                  cons__to__obj={'edge_index': torch.vstack([torch.arange(A.shape[0]), torch.zeros(A.shape[0], dtype=torch.long)]),\n",
    "                               'edge_weight': torch.nn.functional.normalize(b, p=2.0, dim=0)[:, None]},\n",
    "                  obj__to__cons={'edge_index': torch.vstack([torch.zeros(A.shape[0], dtype=torch.long), torch.arange(A.shape[0])]),\n",
    "                               'edge_weight': torch.nn.functional.normalize(b, p=2.0, dim=0)[:, None]})"
   ]
  },
  {
   "cell_type": "code",
   "execution_count": null,
   "id": "2ed9b070-2a70-45b9-9eb3-3911ebc26f00",
   "metadata": {
    "tags": []
   },
   "outputs": [],
   "source": [
    "data_homo = data.to_homogeneous()"
   ]
  },
  {
   "cell_type": "code",
   "execution_count": null,
   "id": "407ed81e-a729-4614-879b-e270ba13b32e",
   "metadata": {
    "tags": []
   },
   "outputs": [],
   "source": [
    "del data_homo.edge_weight"
   ]
  },
  {
   "cell_type": "code",
   "execution_count": null,
   "id": "e7547b24-bb33-4af9-98d2-a939264c6d31",
   "metadata": {
    "tags": []
   },
   "outputs": [],
   "source": [
    "(data_homo.node_type==0).sum()"
   ]
  },
  {
   "cell_type": "code",
   "execution_count": null,
   "id": "feb2c41d-b468-44b8-b987-e78880998d60",
   "metadata": {
    "tags": []
   },
   "outputs": [],
   "source": [
    "from torch_geometric.transforms import AddRandomWalkPE, AddLaplacianEigenvectorPE"
   ]
  },
  {
   "cell_type": "code",
   "execution_count": null,
   "id": "713aeeaf-4771-4947-83c1-4e4e6d0e8768",
   "metadata": {
    "tags": []
   },
   "outputs": [],
   "source": [
    "rw = AddRandomWalkPE(walk_length=3)(data_homo).random_walk_pe[:, 1:]"
   ]
  },
  {
   "cell_type": "code",
   "execution_count": null,
   "id": "ed919362-8aab-4488-992b-c6cc385420e7",
   "metadata": {
    "tags": []
   },
   "outputs": [],
   "source": [
    "lap = AddLaplacianEigenvectorPE(k=5)(data_homo).laplacian_eigenvector_pe"
   ]
  },
  {
   "cell_type": "code",
   "execution_count": null,
   "id": "72d55689-511a-44a4-b9dc-b4e773d35740",
   "metadata": {},
   "outputs": [],
   "source": []
  },
  {
   "cell_type": "code",
   "execution_count": null,
   "id": "07ae7b59-d280-4be8-a769-37d03953f910",
   "metadata": {
    "tags": []
   },
   "outputs": [],
   "source": [
    "data['cons'].x = lap[:314, :]\n",
    "data['cons'].x = (data['cons'].x - data['cons'].x.mean(0)) / data['cons'].x.std(0)\n",
    "data['vals'].x = lap[314:-1, :]\n",
    "data['vals'].x = (data['vals'].x - data['vals'].x.mean(0)) / data['vals'].x.std(0)\n",
    "data['obj'].x = lap[-1:, :]"
   ]
  },
  {
   "cell_type": "code",
   "execution_count": null,
   "id": "e3417b08-8c35-49c9-b8c8-b62cdc1a523a",
   "metadata": {},
   "outputs": [],
   "source": []
  },
  {
   "cell_type": "code",
   "execution_count": null,
   "id": "7e7fe026-98fe-4737-a514-704bf034d085",
   "metadata": {},
   "outputs": [],
   "source": []
  },
  {
   "cell_type": "code",
   "execution_count": null,
   "id": "802d139f-b2c3-4576-a9e9-f3db79fbb95c",
   "metadata": {
    "tags": []
   },
   "outputs": [],
   "source": [
    "from models import DeepHeteroGNN"
   ]
  },
  {
   "cell_type": "code",
   "execution_count": null,
   "id": "84486656-0298-4755-a990-38472cf50b0d",
   "metadata": {
    "tags": []
   },
   "outputs": [],
   "source": [
    "model = DeepHeteroGNN(in_shape=5, \n",
    "                      hid_dim=256, \n",
    "                      num_layers=8, \n",
    "                      dropout=0., \n",
    "                      share_weight=False, \n",
    "                      use_norm=False, \n",
    "                      use_res=False).to('cuda')"
   ]
  },
  {
   "cell_type": "code",
   "execution_count": null,
   "id": "a6876278-ab86-498c-8ae1-4b6b57c5892a",
   "metadata": {
    "tags": []
   },
   "outputs": [],
   "source": [
    "data = data.to('cuda')"
   ]
  },
  {
   "cell_type": "code",
   "execution_count": null,
   "id": "14c784c7-3bce-4666-9b0c-d315a310cbbd",
   "metadata": {
    "tags": []
   },
   "outputs": [],
   "source": [
    "optim = torch.optim.Adam(model.parameters(), lr=0.001)\n",
    "criterion = torch.nn.MSELoss()"
   ]
  },
  {
   "cell_type": "code",
   "execution_count": null,
   "id": "fcde4953-0a59-4933-8c18-62ce55035a0b",
   "metadata": {
    "tags": []
   },
   "outputs": [],
   "source": [
    "model.train()\n",
    "\n",
    "pbar = tqdm(range(1000))\n",
    "for epoch in pbar:\n",
    "    optim.zero_grad()\n",
    "    vals, cons = model(data.x_dict, data.edge_index_dict)\n",
    "    loss = criterion(vals[..., 0], gt_vals[..., 0])\n",
    "    loss.backward()\n",
    "    optim.step()\n",
    "    \n",
    "    pbar.set_postfix({'epoch': epoch, 'loss': loss.item()})"
   ]
  },
  {
   "cell_type": "code",
   "execution_count": null,
   "id": "450eb97e-f66c-4b75-9506-3a1201d7f602",
   "metadata": {},
   "outputs": [],
   "source": []
  },
  {
   "cell_type": "code",
   "execution_count": null,
   "id": "87128ebb-123b-4459-be65-3911e5ec3a53",
   "metadata": {},
   "outputs": [],
   "source": []
  }
 ],
 "metadata": {
  "kernelspec": {
   "display_name": "Python 3 (ipykernel)",
   "language": "python",
   "name": "python3"
  },
  "language_info": {
   "codemirror_mode": {
    "name": "ipython",
    "version": 3
   },
   "file_extension": ".py",
   "mimetype": "text/x-python",
   "name": "python",
   "nbconvert_exporter": "python",
   "pygments_lexer": "ipython3",
   "version": "3.10.11"
  }
 },
 "nbformat": 4,
 "nbformat_minor": 5
}
