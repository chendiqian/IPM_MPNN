{
 "cells": [
  {
   "cell_type": "code",
   "execution_count": 1,
   "id": "2033cda1-0a36-4d22-8bce-b20da302fc91",
   "metadata": {
    "tags": []
   },
   "outputs": [],
   "source": [
    "%load_ext autoreload\n",
    "%autoreload 2"
   ]
  },
  {
   "cell_type": "code",
   "execution_count": 2,
   "id": "94f124ab-4f80-4ef8-95a7-bd9ae8f1b451",
   "metadata": {
    "tags": []
   },
   "outputs": [],
   "source": [
    "from solver import ipm_overleaf, ipm_chapter14\n",
    "import gzip\n",
    "import pickle\n",
    "\n",
    "from scipy.optimize import linprog\n",
    "import numpy as np\n",
    "import time\n",
    "\n",
    "import torch\n",
    "from tqdm import tqdm"
   ]
  },
  {
   "cell_type": "code",
   "execution_count": 3,
   "id": "62e79497-624d-41e6-9dc1-28757badc79a",
   "metadata": {
    "tags": []
   },
   "outputs": [
    {
     "name": "stderr",
     "output_type": "stream",
     "text": [
      "  4%|███▉                                                                                                             | 35/1000 [00:03<01:40,  9.61it/s, lin_system_steps=904, obj=180]\n"
     ]
    }
   ],
   "source": [
    "with gzip.open(f\"instances/setcover/instance_{0}.pkl.gz\", \"rb\") as file:\n",
    "    (A, b, c) = pickle.load(file)\n",
    "\n",
    "sol = ipm_overleaf(c.numpy(), None, None, A.numpy(), b.numpy(), None, max_iter = 1000, tol = 1.e-9)"
   ]
  },
  {
   "cell_type": "code",
   "execution_count": 83,
   "id": "b6ad0c34-5103-4a3e-ad5a-9035a02aaddf",
   "metadata": {},
   "outputs": [],
   "source": [
    "x, l, s =zip(*sol['xs'])\n",
    "x = np.vstack(x)\n",
    "l = np.vstack(l)\n",
    "s = np.vstack(s)\n",
    "\n",
    "gt_vals = torch.from_numpy(np.stack([x, s], axis=-1)).to(torch.float).cuda()\n",
    "gt_cons = torch.from_numpy(l).to(torch.float).cuda()\n",
    "\n",
    "gt_vals = torch.nn.functional.normalize(gt_vals, p=2.0, dim=2)\n",
    "gt_cons = torch.nn.functional.normalize(gt_cons, p=2.0, dim=(0, 1))\n",
    "\n",
    "gt_vals = gt_vals[torch.tensor([0, 5, 10, 15, 20, 25, 30, 34]).cuda()]\n",
    "gt_cons = gt_cons[torch.tensor([0, 5, 10, 15, 20, 25, 30, 34]).cuda()]"
   ]
  },
  {
   "cell_type": "code",
   "execution_count": null,
   "id": "91f4502a-2e72-4d90-96fb-9f7c09773891",
   "metadata": {},
   "outputs": [],
   "source": []
  },
  {
   "cell_type": "code",
   "execution_count": 84,
   "id": "dc1b8cde-81f3-4c22-a169-923f409cfe96",
   "metadata": {
    "tags": []
   },
   "outputs": [],
   "source": [
    "from torch_geometric.data import HeteroData\n",
    "\n",
    "torch.manual_seed(0)\n",
    "data = HeteroData(cons={'x': torch.rand(A.shape[0], 1, dtype=torch.float)},\n",
    "                  vals={'x': torch.rand(A.shape[1], 1, dtype=torch.float)},\n",
    "                  obj={'x': torch.rand(1, 1, dtype=torch.float)},\n",
    "                  \n",
    "                  cons__to__vals={'edge_index': torch.vstack(torch.where(A)),\n",
    "                                'edge_weight': A[torch.where(A)][:, None]},\n",
    "                  vals__to__cons={'edge_index': torch.vstack(torch.where(A.T)),\n",
    "                                'edge_weight': A.T[torch.where(A.T)][:, None]},\n",
    "                  vals__to__obj={'edge_index': torch.vstack([torch.arange(A.shape[1]), torch.zeros(A.shape[1], dtype=torch.long)]),\n",
    "                               'edge_weight': torch.nn.functional.normalize(c, p=2.0, dim=0)[:, None]},\n",
    "                  obj__to__vals={'edge_index': torch.vstack([torch.zeros(A.shape[1], dtype=torch.long), torch.arange(A.shape[1])]),\n",
    "                               'edge_weight': torch.nn.functional.normalize(c, p=2.0, dim=0)[:, None]},\n",
    "                  cons__to__obj={'edge_index': torch.vstack([torch.arange(A.shape[0]), torch.zeros(A.shape[0], dtype=torch.long)]),\n",
    "                               'edge_weight': torch.nn.functional.normalize(b, p=2.0, dim=0)[:, None]},\n",
    "                  obj__to__cons={'edge_index': torch.vstack([torch.zeros(A.shape[0], dtype=torch.long), torch.arange(A.shape[0])]),\n",
    "                               'edge_weight': torch.nn.functional.normalize(b, p=2.0, dim=0)[:, None]})"
   ]
  },
  {
   "cell_type": "code",
   "execution_count": null,
   "id": "586c6cde-6637-4a5f-90b8-73b0dac1afc4",
   "metadata": {},
   "outputs": [],
   "source": []
  },
  {
   "cell_type": "code",
   "execution_count": 85,
   "id": "802d139f-b2c3-4576-a9e9-f3db79fbb95c",
   "metadata": {
    "tags": []
   },
   "outputs": [],
   "source": [
    "from models import DeepHeteroGNN"
   ]
  },
  {
   "cell_type": "code",
   "execution_count": 86,
   "id": "84486656-0298-4755-a990-38472cf50b0d",
   "metadata": {
    "tags": []
   },
   "outputs": [],
   "source": [
    "model = DeepHeteroGNN(in_shape=1, \n",
    "                      hid_dim=256, \n",
    "                      num_layers=8, \n",
    "                      dropout=0., \n",
    "                      share_weight=False, \n",
    "                      use_norm=False, \n",
    "                      use_res=False).to('cuda')"
   ]
  },
  {
   "cell_type": "code",
   "execution_count": 87,
   "id": "a6876278-ab86-498c-8ae1-4b6b57c5892a",
   "metadata": {
    "tags": []
   },
   "outputs": [],
   "source": [
    "data = data.to('cuda')"
   ]
  },
  {
   "cell_type": "code",
   "execution_count": 88,
   "id": "14c784c7-3bce-4666-9b0c-d315a310cbbd",
   "metadata": {
    "tags": []
   },
   "outputs": [],
   "source": [
    "optim = torch.optim.Adam(model.parameters(), lr=0.001)\n",
    "criterion = torch.nn.MSELoss()"
   ]
  },
  {
   "cell_type": "code",
   "execution_count": 89,
   "id": "fcde4953-0a59-4933-8c18-62ce55035a0b",
   "metadata": {
    "tags": []
   },
   "outputs": [
    {
     "name": "stderr",
     "output_type": "stream",
     "text": [
      "100%|███████████████████████████████████████████████████████████████████████████████████████████████████████████████████████| 200/200 [00:14<00:00, 13.57it/s, epoch=199, loss=0.00275]\n"
     ]
    }
   ],
   "source": [
    "model.train()\n",
    "\n",
    "pbar = tqdm(range(200))\n",
    "for epoch in pbar:\n",
    "    optim.zero_grad()\n",
    "    vals, cons = model(data.x_dict, data.edge_index_dict)\n",
    "    loss = criterion(vals[..., 0], gt_vals[..., 0])\n",
    "    loss.backward()\n",
    "    optim.step()\n",
    "    \n",
    "    pbar.set_postfix({'epoch': epoch, 'loss': loss.item()})"
   ]
  },
  {
   "cell_type": "code",
   "execution_count": null,
   "id": "6b14a1fa-6cec-40bc-9913-acbcf62f1c8c",
   "metadata": {},
   "outputs": [],
   "source": []
  }
 ],
 "metadata": {
  "kernelspec": {
   "display_name": "Python 3 (ipykernel)",
   "language": "python",
   "name": "python3"
  },
  "language_info": {
   "codemirror_mode": {
    "name": "ipython",
    "version": 3
   },
   "file_extension": ".py",
   "mimetype": "text/x-python",
   "name": "python",
   "nbconvert_exporter": "python",
   "pygments_lexer": "ipython3",
   "version": "3.10.11"
  }
 },
 "nbformat": 4,
 "nbformat_minor": 5
}
