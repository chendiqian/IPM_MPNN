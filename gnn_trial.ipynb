{
 "cells": [
  {
   "cell_type": "code",
   "execution_count": 51,
   "id": "94f124ab-4f80-4ef8-95a7-bd9ae8f1b451",
   "metadata": {
    "tags": []
   },
   "outputs": [],
   "source": [
    "from solver import ipm_overleaf, ipm_chapter14\n",
    "import gzip\n",
    "import pickle\n",
    "\n",
    "from scipy.optimize import linprog\n",
    "import numpy as np\n",
    "import time\n",
    "\n",
    "import torch\n",
    "from tqdm import tqdm"
   ]
  },
  {
   "cell_type": "code",
   "execution_count": 2,
   "id": "62e79497-624d-41e6-9dc1-28757badc79a",
   "metadata": {
    "tags": []
   },
   "outputs": [
    {
     "name": "stderr",
     "output_type": "stream",
     "text": [
      "  4%|██████▏                                                                                                                                                                         | 35/1000 [00:03<01:45,  9.13it/s, lin_system_steps=904]\n"
     ]
    }
   ],
   "source": [
    "with gzip.open(f\"instances/setcover/instance_{0}.pkl.gz\", \"rb\") as file:\n",
    "    (A, b, c) = pickle.load(file)\n",
    "\n",
    "sol = ipm_overleaf(c.numpy(), None, None, A.numpy(), b.numpy(), None, max_iter = 1000, tol = 1.e-9)"
   ]
  },
  {
   "cell_type": "code",
   "execution_count": null,
   "id": "b6ad0c34-5103-4a3e-ad5a-9035a02aaddf",
   "metadata": {},
   "outputs": [],
   "source": []
  },
  {
   "cell_type": "code",
   "execution_count": 18,
   "id": "9893e4fb-3391-4adf-9b53-8e383d2dd6a7",
   "metadata": {
    "tags": []
   },
   "outputs": [],
   "source": [
    "from torch_geometric.datasets import DBLP\n",
    "\n",
    "dataset = DBLP(root='./data')\n",
    "data = dataset[0]"
   ]
  },
  {
   "cell_type": "code",
   "execution_count": null,
   "id": "bd787b95-d6d9-4c3d-a8ef-b1448d6143f3",
   "metadata": {},
   "outputs": [],
   "source": []
  },
  {
   "cell_type": "code",
   "execution_count": 41,
   "id": "dc1b8cde-81f3-4c22-a169-923f409cfe96",
   "metadata": {
    "tags": []
   },
   "outputs": [],
   "source": [
    "from torch_geometric.data import HeteroData\n",
    "\n",
    "torch.manual_seed(0)\n",
    "hid = 64\n",
    "data = HeteroData(cons={'x': torch.randn(A.shape[0], hid)},\n",
    "                  vals={'x': torch.randn(A.shape[1], hid)},\n",
    "                  obj={'x': torch.rand(1, hid)},\n",
    "                  \n",
    "                  cons__to__vals={'edge_index': torch.vstack(torch.where(A)),\n",
    "                                'edge_weight': A[torch.where(A)]},\n",
    "                  vals__to__cons={'edge_index': torch.vstack(torch.where(A.T)),\n",
    "                                'edge_weight': A.T[torch.where(A.T)]},\n",
    "                  vals__to__obj={'edge_index': torch.vstack([torch.arange(A.shape[1]), torch.zeros(A.shape[1], dtype=torch.long)]),\n",
    "                               'edge_weight': torch.nn.functional.normalize(c, p=2.0, dim=0)},\n",
    "                  obj__to__vals={'edge_index': torch.vstack([torch.zeros(A.shape[1], dtype=torch.long), torch.arange(A.shape[1])]),\n",
    "                               'edge_weight': torch.nn.functional.normalize(c, p=2.0, dim=0)},\n",
    "                  cons__to__obj={'edge_index': torch.vstack([torch.arange(A.shape[0]), torch.zeros(A.shape[0], dtype=torch.long)]),\n",
    "                               'edge_weight': torch.nn.functional.normalize(b, p=2.0, dim=0)},\n",
    "                  obj__to__cons={'edge_index': torch.vstack([torch.zeros(A.shape[0], dtype=torch.long), torch.arange(A.shape[0])]),\n",
    "                               'edge_weight': torch.nn.functional.normalize(b, p=2.0, dim=0)},\n",
    "                  y=torch.from_numpy(np.vstack(sol['xs']).astype(np.float32)))"
   ]
  },
  {
   "cell_type": "code",
   "execution_count": null,
   "id": "007b7f55-f11d-4444-8f6e-a9b7990ff13a",
   "metadata": {},
   "outputs": [],
   "source": []
  },
  {
   "cell_type": "code",
   "execution_count": 21,
   "id": "2604fb60-5ef5-447a-9658-f34ff3606bf2",
   "metadata": {
    "tags": []
   },
   "outputs": [],
   "source": [
    "from torch_geometric.nn.conv import MessagePassing, HeteroConv\n",
    "\n",
    "class MyMessagePassing(MessagePassing):\n",
    "    def __init__(self):\n",
    "        super().__init__(aggr='add')\n",
    "\n",
    "    def forward(self, x, edge_index):\n",
    "        out = self.propagate(edge_index, x=x)\n",
    "        \n",
    "        return out\n",
    "\n",
    "    def message(self, x_j):\n",
    "        return x_j"
   ]
  },
  {
   "cell_type": "code",
   "execution_count": 27,
   "id": "76d322ea-3411-4d0b-90e3-474b3609ee92",
   "metadata": {
    "tags": []
   },
   "outputs": [],
   "source": [
    "class MyLSTMConv(torch.nn.Module):\n",
    "    def __init__(self, in_shape, hid_dim, steps):\n",
    "        super().__init__()\n",
    "        self.steps = steps\n",
    "        self.conv = HeteroConv({\n",
    "            ('cons', 'to', 'vals'): MyMessagePassing(),\n",
    "            ('vals', 'to', 'cons'): MyMessagePassing(),}, aggr='sum')\n",
    "        self.lin_vals = torch.nn.Linear(in_shape, hid_dim)\n",
    "        self.lin_cons = torch.nn.Linear(in_shape, hid_dim)\n",
    "        \n",
    "        self.cell_vals = torch.nn.LSTMCell(hid_dim, hid_dim)\n",
    "        self.cell_cons = torch.nn.LSTMCell(hid_dim, hid_dim)\n",
    "        self.norm_vals = torch.nn.BatchNorm1d(hid_dim)\n",
    "        self.norm_cons = torch.nn.BatchNorm1d(hid_dim)\n",
    "        \n",
    "        self.nn_vals =  torch.nn.Sequential(torch.nn.Linear(hid_dim, hid_dim), \n",
    "                                    torch.nn.ReLU(),\n",
    "                                    torch.nn.Linear(hid_dim, hid_dim))\n",
    "        self.nn_cons =  torch.nn.Sequential(torch.nn.Linear(hid_dim, hid_dim), \n",
    "                                    torch.nn.ReLU(),\n",
    "                                    torch.nn.Linear(hid_dim, hid_dim))\n",
    "        \n",
    "        self.pred_vals = torch.nn.Sequential(torch.nn.Linear(hid_dim, hid_dim), \n",
    "                                    torch.nn.ReLU(),\n",
    "                                    torch.nn.Linear(hid_dim, 1))\n",
    "\n",
    "    def forward(self, x_dict, edge_index_dict):\n",
    "        x_dict['vals'] = torch.relu(self.lin_vals(x_dict['vals']))\n",
    "        x_dict['cons'] = torch.relu(self.lin_vals(x_dict['cons']))\n",
    "        \n",
    "        h_val = x_dict['vals'].new_zeros(x_dict['vals'].shape)\n",
    "        c_val = x_dict['vals'].new_zeros(x_dict['vals'].shape)\n",
    "        \n",
    "        h_con = x_dict['cons'].new_zeros(x_dict['cons'].shape)\n",
    "        c_con = x_dict['cons'].new_zeros(x_dict['cons'].shape)\n",
    "        \n",
    "        \n",
    "        hiddens = []\n",
    "        for i in range(self.steps):\n",
    "            x_dict = self.conv(x_dict, edge_index_dict)\n",
    "            x_dict['vals'] = self.nn_vals(x_dict['vals'])\n",
    "            x_dict['cons'] = self.nn_vals(x_dict['cons'])\n",
    "            h_val, c_val = self.cell_vals(x_dict['vals'], (h_val, c_val))\n",
    "            h_con, c_con = self.cell_vals(x_dict['cons'], (h_con, c_con))\n",
    "            hiddens.append(h_val)\n",
    "        \n",
    "        hiddens = torch.stack(hiddens, dim=0)\n",
    "        out = self.pred_vals(hiddens)\n",
    "        return out.squeeze(-1)"
   ]
  },
  {
   "cell_type": "code",
   "execution_count": 59,
   "id": "2648d13c-5155-4747-82ec-a8bb6f43e3cc",
   "metadata": {},
   "outputs": [],
   "source": [
    "model = MyLSTMConv(64, 128, 35).to('cuda')"
   ]
  },
  {
   "cell_type": "code",
   "execution_count": 60,
   "id": "a6876278-ab86-498c-8ae1-4b6b57c5892a",
   "metadata": {
    "tags": []
   },
   "outputs": [],
   "source": [
    "data = data.to('cuda')"
   ]
  },
  {
   "cell_type": "code",
   "execution_count": 61,
   "id": "14c784c7-3bce-4666-9b0c-d315a310cbbd",
   "metadata": {
    "tags": []
   },
   "outputs": [],
   "source": [
    "optim = torch.optim.Adam(model.parameters(), lr=0.001)\n",
    "criterion = torch.nn.MSELoss()"
   ]
  },
  {
   "cell_type": "code",
   "execution_count": 62,
   "id": "fcde4953-0a59-4933-8c18-62ce55035a0b",
   "metadata": {
    "tags": []
   },
   "outputs": [
    {
     "name": "stderr",
     "output_type": "stream",
     "text": [
      "100%|██████████████████████████████████████████████████████████████████████████████████████████████████████████████████████████| 100/100 [00:05<00:00, 17.79it/s, epoch=99, loss=tensor(0.1419, device='cuda:0', grad_fn=<MseLossBackward0>)]\n"
     ]
    }
   ],
   "source": [
    "model.train()\n",
    "\n",
    "pbar = tqdm(range(100))\n",
    "for epoch in pbar:\n",
    "    optim.zero_grad()\n",
    "    pred = model(data.x_dict, data.edge_index_dict)\n",
    "    loss = criterion(pred, data.y)\n",
    "    loss.backward()\n",
    "    optim.step()\n",
    "    \n",
    "    pbar.set_postfix({'epoch': epoch, 'loss': loss})"
   ]
  },
  {
   "cell_type": "code",
   "execution_count": null,
   "id": "dc70017d-97eb-45ca-98c4-f2bcdee9a2ca",
   "metadata": {},
   "outputs": [],
   "source": []
  }
 ],
 "metadata": {
  "kernelspec": {
   "display_name": "Python 3 (ipykernel)",
   "language": "python",
   "name": "python3"
  },
  "language_info": {
   "codemirror_mode": {
    "name": "ipython",
    "version": 3
   },
   "file_extension": ".py",
   "mimetype": "text/x-python",
   "name": "python",
   "nbconvert_exporter": "python",
   "pygments_lexer": "ipython3",
   "version": "3.10.11"
  }
 },
 "nbformat": 4,
 "nbformat_minor": 5
}
