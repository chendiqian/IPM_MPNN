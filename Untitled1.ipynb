{
 "cells": [
  {
   "cell_type": "code",
   "execution_count": 1,
   "id": "a5fac69c-25a0-4502-ad0c-609d7835536a",
   "metadata": {
    "tags": []
   },
   "outputs": [],
   "source": [
    "from solver import ipm_overleaf, ipm_chapter14\n",
    "import gzip\n",
    "import pickle\n",
    "\n",
    "from scipy.optimize import linprog\n",
    "import numpy as np\n",
    "import time"
   ]
  },
  {
   "cell_type": "code",
   "execution_count": 2,
   "id": "5ace4617-29af-47eb-8e88-9a19c3e32016",
   "metadata": {
    "tags": []
   },
   "outputs": [
    {
     "name": "stderr",
     "output_type": "stream",
     "text": [
      "/var/folders/6v/m172f7bs02l0tkwy4_9yxttm0000gn/T/ipykernel_70086/2145249404.py:16: DeprecationWarning: `method='interior-point'` is deprecated and will be removed in SciPy 1.11.0. Please use one of the HiGHS solvers (e.g. `method='highs'`) in new code.\n",
      "  sol_cp = linprog(c,\n"
     ]
    },
    {
     "name": "stdout",
     "output_type": "stream",
     "text": [
      "0th problem - time: ours 25.751343250274658, scipy 8.224296808242798, var gap 1.1144878742097575e-08 steps: ours 52 scipy 16\n",
      "1th problem - time: ours 21.427149057388306, scipy 7.709454774856567, var gap 0.011629556403322527 steps: ours 47 scipy 15\n",
      "2th problem - time: ours 22.83808994293213, scipy 7.224996089935303, var gap 0.0031778421050585592 steps: ours 49 scipy 14\n",
      "3th problem - time: ours 22.376637935638428, scipy 8.551279067993164, var gap 2.5017578453301326e-08 steps: ours 49 scipy 16\n"
     ]
    },
    {
     "name": "stderr",
     "output_type": "stream",
     "text": [
      "/var/folders/6v/m172f7bs02l0tkwy4_9yxttm0000gn/T/ipykernel_70086/2145249404.py:16: OptimizeWarning: Solving system with option 'cholesky':True failed. It is normal for this to happen occasionally, especially as the solution is approached. However, if you see this frequently, consider setting option 'cholesky' to False.\n",
      "  sol_cp = linprog(c,\n",
      "/var/folders/6v/m172f7bs02l0tkwy4_9yxttm0000gn/T/ipykernel_70086/2145249404.py:16: OptimizeWarning: Solving system with option 'sym_pos':True failed. It is normal for this to happen occasionally, especially as the solution is approached. However, if you see this frequently, consider setting option 'sym_pos' to False.\n",
      "  sol_cp = linprog(c,\n",
      "/Users/qianchendi/miniconda3/envs/ipmgnn/lib/python3.10/site-packages/scipy/optimize/_linprog_ip.py:120: LinAlgWarning: Ill-conditioned matrix (rcond=1.77625e-24): result may not be accurate.\n",
      "  return sp.linalg.solve(M, r)\n"
     ]
    },
    {
     "name": "stdout",
     "output_type": "stream",
     "text": [
      "4th problem - time: ours 25.001708984375, scipy 9.66591501235962, var gap 1.1265806398874645e-08 steps: ours 53 scipy 16\n",
      "5th problem - time: ours 21.433706998825073, scipy 8.58326005935669, var gap 0.0017126135696550193 steps: ours 47 scipy 16\n",
      "6th problem - time: ours 29.989235877990723, scipy 8.96145486831665, var gap 2.618078989713446e-08 steps: ours 60 scipy 17\n",
      "7th problem - time: ours 32.74511194229126, scipy 9.352338075637817, var gap 2.141476618255922e-08 steps: ours 63 scipy 18\n",
      "8th problem - time: ours 23.76255488395691, scipy 7.8786022663116455, var gap 0.003405536915014218 steps: ours 49 scipy 15\n",
      "9th problem - time: ours 23.932661056518555, scipy 7.365550756454468, var gap 1.8062734863377727e-08 steps: ours 52 scipy 15\n",
      "10th problem - time: ours 21.663312911987305, scipy 6.707144021987915, var gap 1.6041076467132598e-08 steps: ours 47 scipy 12\n"
     ]
    },
    {
     "name": "stderr",
     "output_type": "stream",
     "text": [
      "/Users/qianchendi/miniconda3/envs/ipmgnn/lib/python3.10/site-packages/scipy/optimize/_linprog_ip.py:120: LinAlgWarning: Ill-conditioned matrix (rcond=1.27131e-20): result may not be accurate.\n",
      "  return sp.linalg.solve(M, r)\n"
     ]
    },
    {
     "name": "stdout",
     "output_type": "stream",
     "text": [
      "11th problem - time: ours 21.27366876602173, scipy 8.668555974960327, var gap 0.002195899307916027 steps: ours 48 scipy 16\n",
      "12th problem - time: ours 23.98013997077942, scipy 7.272080898284912, var gap 0.011034087806973236 steps: ours 50 scipy 14\n",
      "13th problem - time: ours 27.06073784828186, scipy 8.778714895248413, var gap 2.963862533178485e-08 steps: ours 54 scipy 17\n",
      "14th problem - time: ours 27.002254247665405, scipy 7.911802768707275, var gap 1.5280530729633313e-08 steps: ours 54 scipy 15\n",
      "15th problem - time: ours 26.23345112800598, scipy 8.560841798782349, var gap 0.010771703421987855 steps: ours 52 scipy 17\n",
      "16th problem - time: ours 24.083536863327026, scipy 8.308095932006836, var gap 1.540421423751326e-08 steps: ours 49 scipy 16\n",
      "17th problem - time: ours 25.560904026031494, scipy 8.484143018722534, var gap 0.01274060073447969 steps: ours 52 scipy 16\n",
      "18th problem - time: ours 25.788748025894165, scipy 8.583307027816772, var gap 2.5383329660400022e-08 steps: ours 53 scipy 16\n",
      "19th problem - time: ours 22.641278982162476, scipy 7.762623071670532, var gap 0.003959896719360589 steps: ours 48 scipy 14\n",
      "20th problem - time: ours 23.21823000907898, scipy 7.9569761753082275, var gap 9.306727944902171e-05 steps: ours 49 scipy 15\n",
      "21th problem - time: ours 25.140872955322266, scipy 7.9131269454956055, var gap 0.0021902360733143666 steps: ours 51 scipy 16\n",
      "22th problem - time: ours 23.463505029678345, scipy 7.584769010543823, var gap 0.014966031555305681 steps: ours 50 scipy 15\n",
      "23th problem - time: ours 26.926979303359985, scipy 9.192829847335815, var gap 1.6536335800676483e-08 steps: ours 54 scipy 17\n",
      "24th problem - time: ours 21.18697500228882, scipy 7.429455280303955, var gap 0.0058645500975051945 steps: ours 46 scipy 14\n",
      "25th problem - time: ours 29.972930192947388, scipy 7.668215990066528, var gap 2.7005850999906045e-08 steps: ours 59 scipy 16\n",
      "26th problem - time: ours 17.96299386024475, scipy 5.909632205963135, var gap 1.3316479252623026e-08 steps: ours 42 scipy 12\n",
      "27th problem - time: ours 27.754853010177612, scipy 8.130211114883423, var gap 0.01619575148849728 steps: ours 55 scipy 16\n",
      "28th problem - time: ours 30.130083799362183, scipy 9.387996912002563, var gap 2.616633765217813e-08 steps: ours 58 scipy 17\n",
      "29th problem - time: ours 24.680907011032104, scipy 7.937903881072998, var gap 0.007875964270640967 steps: ours 51 scipy 15\n",
      "30th problem - time: ours 27.708765029907227, scipy 8.96314787864685, var gap 0.00791492154204465 steps: ours 54 scipy 17\n",
      "31th problem - time: ours 28.358942985534668, scipy 8.66534686088562, var gap 1.5802849362422933e-08 steps: ours 58 scipy 16\n",
      "32th problem - time: ours 22.297873735427856, scipy 6.945693254470825, var gap 0.014545195658303367 steps: ours 50 scipy 14\n"
     ]
    },
    {
     "name": "stderr",
     "output_type": "stream",
     "text": [
      "/Users/qianchendi/miniconda3/envs/ipmgnn/lib/python3.10/site-packages/scipy/optimize/_linprog_ip.py:120: LinAlgWarning: Ill-conditioned matrix (rcond=4.47531e-31): result may not be accurate.\n",
      "  return sp.linalg.solve(M, r)\n",
      "/Users/qianchendi/miniconda3/envs/ipmgnn/lib/python3.10/site-packages/scipy/optimize/_linprog_ip.py:120: LinAlgWarning: Ill-conditioned matrix (rcond=5.96607e-30): result may not be accurate.\n",
      "  return sp.linalg.solve(M, r)\n",
      "/Users/qianchendi/miniconda3/envs/ipmgnn/lib/python3.10/site-packages/scipy/optimize/_linprog_ip.py:120: LinAlgWarning: Ill-conditioned matrix (rcond=2.18624e-19): result may not be accurate.\n",
      "  return sp.linalg.solve(M, r)\n"
     ]
    },
    {
     "name": "stdout",
     "output_type": "stream",
     "text": [
      "33th problem - time: ours 21.030043125152588, scipy 14.21274185180664, var gap 5.527720992049012e-08 steps: ours 47 scipy 19\n",
      "34th problem - time: ours 25.63841676712036, scipy 9.108351230621338, var gap 1.3624714578774899e-08 steps: ours 55 scipy 17\n",
      "35th problem - time: ours 23.314375162124634, scipy 8.207473039627075, var gap 0.0011751245018187806 steps: ours 50 scipy 16\n",
      "36th problem - time: ours 28.119703769683838, scipy 8.552574157714844, var gap 3.262485241961599e-07 steps: ours 58 scipy 16\n",
      "37th problem - time: ours 19.728222846984863, scipy 7.836235046386719, var gap 0.0044457055708502224 steps: ours 47 scipy 15\n",
      "38th problem - time: ours 23.081643104553223, scipy 8.290394067764282, var gap 3.980816298820855e-08 steps: ours 50 scipy 16\n",
      "39th problem - time: ours 30.626577138900757, scipy 8.538625001907349, var gap 1.8328094020247931e-07 steps: ours 61 scipy 17\n",
      "40th problem - time: ours 22.051300764083862, scipy 7.852260112762451, var gap 1.8962787451393126e-08 steps: ours 48 scipy 16\n",
      "41th problem - time: ours 21.888507843017578, scipy 7.215631008148193, var gap 0.009810587797761894 steps: ours 49 scipy 14\n",
      "42th problem - time: ours 17.91846489906311, scipy 6.910282135009766, var gap 0.030289435467942605 steps: ours 43 scipy 13\n",
      "43th problem - time: ours 21.13563084602356, scipy 8.361690282821655, var gap 1.4370999057433664e-08 steps: ours 49 scipy 15\n"
     ]
    },
    {
     "name": "stderr",
     "output_type": "stream",
     "text": [
      "/Users/qianchendi/miniconda3/envs/ipmgnn/lib/python3.10/site-packages/scipy/optimize/_linprog_ip.py:120: LinAlgWarning: Ill-conditioned matrix (rcond=2.98024e-22): result may not be accurate.\n",
      "  return sp.linalg.solve(M, r)\n"
     ]
    },
    {
     "name": "stdout",
     "output_type": "stream",
     "text": [
      "44th problem - time: ours 18.66497802734375, scipy 9.196327924728394, var gap 1.2207395005958688e-07 steps: ours 44 scipy 15\n",
      "45th problem - time: ours 19.0205979347229, scipy 7.257638931274414, var gap 0.023537219192887537 steps: ours 45 scipy 14\n",
      "46th problem - time: ours 18.7199227809906, scipy 7.315006971359253, var gap 0.00013175560338596348 steps: ours 45 scipy 14\n",
      "47th problem - time: ours 21.352720260620117, scipy 8.88102388381958, var gap 1.363485829797284e-08 steps: ours 48 scipy 17\n",
      "48th problem - time: ours 24.63275694847107, scipy 8.20619010925293, var gap 0.003276142552385508 steps: ours 52 scipy 16\n",
      "49th problem - time: ours 21.290136098861694, scipy 8.408220767974854, var gap 0.001411981529263362 steps: ours 49 scipy 16\n",
      "50th problem - time: ours 21.10096788406372, scipy 8.161377906799316, var gap 0.00391200511013956 steps: ours 50 scipy 16\n",
      "51th problem - time: ours 23.602830171585083, scipy 8.530371189117432, var gap 1.4403404413609877e-08 steps: ours 53 scipy 16\n",
      "52th problem - time: ours 21.60855793952942, scipy 8.049553155899048, var gap 0.003409646937687416 steps: ours 50 scipy 16\n",
      "53th problem - time: ours 21.491308212280273, scipy 8.122301816940308, var gap 0.0010685091828527282 steps: ours 49 scipy 15\n",
      "54th problem - time: ours 23.208157300949097, scipy 7.570296764373779, var gap 0.03529672724368549 steps: ours 50 scipy 14\n",
      "55th problem - time: ours 23.142383813858032, scipy 7.767928123474121, var gap 0.017679774034088602 steps: ours 49 scipy 15\n",
      "56th problem - time: ours 21.48766827583313, scipy 8.530086994171143, var gap 1.3310431534740985e-08 steps: ours 50 scipy 16\n",
      "57th problem - time: ours 23.3365581035614, scipy 8.495981693267822, var gap 3.072776721957382e-07 steps: ours 51 scipy 16\n",
      "58th problem - time: ours 30.33064603805542, scipy 8.483705759048462, var gap 1.6609213782103893e-08 steps: ours 61 scipy 16\n",
      "59th problem - time: ours 21.336590051651, scipy 9.286827087402344, var gap 0.009169507114939135 steps: ours 48 scipy 17\n",
      "60th problem - time: ours 19.861497163772583, scipy 7.5476038455963135, var gap 5.514903445025254e-08 steps: ours 46 scipy 15\n",
      "61th problem - time: ours 23.220062971115112, scipy 8.589724063873291, var gap 0.007815831748643642 steps: ours 50 scipy 16\n",
      "62th problem - time: ours 20.309327125549316, scipy 7.095746994018555, var gap 7.638433663359478e-09 steps: ours 47 scipy 14\n",
      "63th problem - time: ours 20.42058491706848, scipy 6.880733013153076, var gap 2.9049408656334208e-08 steps: ours 48 scipy 13\n",
      "64th problem - time: ours 18.763994693756104, scipy 7.595527172088623, var gap 2.1510517644873772e-08 steps: ours 44 scipy 15\n",
      "65th problem - time: ours 24.79379415512085, scipy 8.311771869659424, var gap 1.20637243306021e-07 steps: ours 54 scipy 16\n",
      "66th problem - time: ours 23.979140996932983, scipy 8.917325973510742, var gap 0.0007482297138450278 steps: ours 52 scipy 17\n",
      "67th problem - time: ours 24.916906118392944, scipy 7.878154754638672, var gap 0.014685517781535762 steps: ours 52 scipy 15\n",
      "68th problem - time: ours 21.14386510848999, scipy 7.730855941772461, var gap 0.007162729167634385 steps: ours 48 scipy 15\n",
      "69th problem - time: ours 28.61907410621643, scipy 9.839472770690918, var gap 2.674630139587464e-08 steps: ours 58 scipy 18\n",
      "70th problem - time: ours 17.615108013153076, scipy 6.764238119125366, var gap 0.015900056423910236 steps: ours 42 scipy 13\n",
      "71th problem - time: ours 28.898020029067993, scipy 8.448302030563354, var gap 4.318491786392542e-08 steps: ours 58 scipy 17\n",
      "72th problem - time: ours 22.102651119232178, scipy 8.316515922546387, var gap 2.984761082736043e-08 steps: ours 47 scipy 16\n",
      "73th problem - time: ours 18.431695222854614, scipy 5.830862045288086, var gap 0.11944831750815865 steps: ours 43 scipy 11\n",
      "74th problem - time: ours 27.287577152252197, scipy 8.28047490119934, var gap 5.832166050101506e-08 steps: ours 58 scipy 15\n",
      "75th problem - time: ours 24.09423017501831, scipy 7.892459869384766, var gap 0.01209095583462716 steps: ours 52 scipy 15\n",
      "76th problem - time: ours 18.70580506324768, scipy 7.42549991607666, var gap 0.0024992809065129684 steps: ours 45 scipy 14\n",
      "77th problem - time: ours 21.727362871170044, scipy 9.3925940990448, var gap 6.406495750566066e-09 steps: ours 50 scipy 18\n",
      "78th problem - time: ours 31.298158645629883, scipy 8.665432214736938, var gap 1.782683400897156e-08 steps: ours 62 scipy 16\n",
      "79th problem - time: ours 25.575633764266968, scipy 8.450008153915405, var gap 0.002273596637746955 steps: ours 54 scipy 16\n",
      "80th problem - time: ours 27.168321132659912, scipy 7.7555460929870605, var gap 1.3646212770890287e-08 steps: ours 52 scipy 15\n",
      "81th problem - time: ours 25.617403984069824, scipy 7.871279954910278, var gap 1.399700960691419e-07 steps: ours 48 scipy 15\n",
      "82th problem - time: ours 23.18076205253601, scipy 7.200880765914917, var gap 0.007672498016322693 steps: ours 45 scipy 14\n",
      "83th problem - time: ours 24.810431957244873, scipy 7.244388103485107, var gap 9.984943760699139e-09 steps: ours 48 scipy 14\n",
      "84th problem - time: ours 25.679908275604248, scipy 8.462848901748657, var gap 0.006980956566567276 steps: ours 47 scipy 15\n",
      "85th problem - time: ours 20.77888798713684, scipy 6.024622201919556, var gap 0.024687090462175765 steps: ours 44 scipy 12\n",
      "86th problem - time: ours 26.705116033554077, scipy 7.825759172439575, var gap 9.297378984474136e-07 steps: ours 55 scipy 16\n",
      "87th problem - time: ours 26.33253502845764, scipy 8.290916919708252, var gap 3.8840830773878565e-08 steps: ours 57 scipy 15\n"
     ]
    },
    {
     "name": "stderr",
     "output_type": "stream",
     "text": [
      "/Users/qianchendi/miniconda3/envs/ipmgnn/lib/python3.10/site-packages/scipy/optimize/_linprog_ip.py:120: LinAlgWarning: Ill-conditioned matrix (rcond=3.49909e-19): result may not be accurate.\n",
      "  return sp.linalg.solve(M, r)\n"
     ]
    },
    {
     "name": "stdout",
     "output_type": "stream",
     "text": [
      "88th problem - time: ours 27.471712827682495, scipy 10.511778116226196, var gap 0.008718587813640877 steps: ours 57 scipy 17\n",
      "89th problem - time: ours 23.197479963302612, scipy 8.51823115348816, var gap 0.04332731345302321 steps: ours 52 scipy 16\n",
      "90th problem - time: ours 25.02622890472412, scipy 8.09444785118103, var gap 0.003405900430541453 steps: ours 54 scipy 15\n",
      "91th problem - time: ours 24.21406388282776, scipy 7.415855169296265, var gap 0.0012412210705565752 steps: ours 53 scipy 15\n",
      "92th problem - time: ours 21.424988985061646, scipy 7.1220481395721436, var gap 0.0029942886172649175 steps: ours 49 scipy 14\n",
      "93th problem - time: ours 22.812523126602173, scipy 8.706003904342651, var gap 8.159771436311303e-08 steps: ours 53 scipy 16\n"
     ]
    },
    {
     "name": "stderr",
     "output_type": "stream",
     "text": [
      "/Users/qianchendi/miniconda3/envs/ipmgnn/lib/python3.10/site-packages/scipy/optimize/_linprog_ip.py:120: LinAlgWarning: Ill-conditioned matrix (rcond=1.48697e-22): result may not be accurate.\n",
      "  return sp.linalg.solve(M, r)\n",
      "/Users/qianchendi/miniconda3/envs/ipmgnn/lib/python3.10/site-packages/scipy/optimize/_linprog_ip.py:120: LinAlgWarning: Ill-conditioned matrix (rcond=1.17673e-20): result may not be accurate.\n",
      "  return sp.linalg.solve(M, r)\n"
     ]
    },
    {
     "name": "stdout",
     "output_type": "stream",
     "text": [
      "94th problem - time: ours 23.71996784210205, scipy 11.672564029693604, var gap 1.8803625989605166e-08 steps: ours 51 scipy 17\n",
      "95th problem - time: ours 25.058587789535522, scipy 7.585594892501831, var gap 1.5632714789326485e-08 steps: ours 53 scipy 15\n",
      "96th problem - time: ours 20.433265209197998, scipy 7.142110824584961, var gap 0.0011992837777470844 steps: ours 48 scipy 14\n",
      "97th problem - time: ours 25.580188989639282, scipy 8.045841217041016, var gap 2.9700659487374992e-08 steps: ours 54 scipy 15\n"
     ]
    },
    {
     "name": "stderr",
     "output_type": "stream",
     "text": [
      "/Users/qianchendi/miniconda3/envs/ipmgnn/lib/python3.10/site-packages/scipy/optimize/_linprog_ip.py:120: LinAlgWarning: Ill-conditioned matrix (rcond=5.67149e-23): result may not be accurate.\n",
      "  return sp.linalg.solve(M, r)\n",
      "/Users/qianchendi/miniconda3/envs/ipmgnn/lib/python3.10/site-packages/scipy/optimize/_linprog_ip.py:120: LinAlgWarning: Ill-conditioned matrix (rcond=3.83867e-26): result may not be accurate.\n",
      "  return sp.linalg.solve(M, r)\n"
     ]
    },
    {
     "name": "stdout",
     "output_type": "stream",
     "text": [
      "98th problem - time: ours 24.70312523841858, scipy 12.663146734237671, var gap 2.6829800603422882e-08 steps: ours 54 scipy 18\n",
      "99th problem - time: ours 22.58577299118042, scipy 8.334080219268799, var gap 0.016551750843732727 steps: ours 52 scipy 16\n"
     ]
    }
   ],
   "source": [
    "for i in range(100):\n",
    "    with gzip.open(f\"instances/setcover/instance_{i}.pkl.gz\", \"rb\") as file:\n",
    "        (A, b, c) = pickle.load(file)\n",
    "\n",
    "    c = c.numpy()\n",
    "    A_ub = None\n",
    "    b_ub = None\n",
    "    A_eq = A.numpy()\n",
    "    b_eq = b.numpy()\n",
    "    bounds = None\n",
    "    \n",
    "    t1 = time.time()\n",
    "    sol = ipm_overleaf(c, A_ub, b_ub, A_eq, b_eq, bounds, max_iter = 1000, tol = 1.e-9)\n",
    "    t2 = time.time()\n",
    "    \n",
    "    sol_cp = linprog(c, \n",
    "                    A_ub=A_ub, \n",
    "                    b_ub=b_ub, \n",
    "                    A_eq=A_eq, b_eq=b_eq, bounds=bounds, method='interior-point')\n",
    "    \n",
    "    t3 = time.time()\n",
    "    \n",
    "    print(f'{i}th problem - time: ours {t2 - t1}, scipy {t3 - t2}, var gap {np.abs(sol[\"x\"] - sol_cp.x).max()} '\n",
    "          f'steps: ours {sol[\"nit\"]} scipy {sol_cp.nit}')"
   ]
  },
  {
   "cell_type": "code",
   "execution_count": null,
   "id": "51cf3547-30e6-4321-94d8-a5a82ab3d637",
   "metadata": {},
   "outputs": [],
   "source": []
  }
 ],
 "metadata": {
  "kernelspec": {
   "display_name": "Python 3 (ipykernel)",
   "language": "python",
   "name": "python3"
  },
  "language_info": {
   "codemirror_mode": {
    "name": "ipython",
    "version": 3
   },
   "file_extension": ".py",
   "mimetype": "text/x-python",
   "name": "python",
   "nbconvert_exporter": "python",
   "pygments_lexer": "ipython3",
   "version": "3.10.10"
  }
 },
 "nbformat": 4,
 "nbformat_minor": 5
}
