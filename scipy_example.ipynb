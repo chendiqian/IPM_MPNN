{
 "cells": [
  {
   "cell_type": "code",
   "execution_count": 1,
   "id": "7244dbec-64eb-4640-b783-44acccaab72b",
   "metadata": {
    "tags": []
   },
   "outputs": [],
   "source": [
    "import scipy"
   ]
  },
  {
   "cell_type": "code",
   "execution_count": 2,
   "id": "b9964894-42af-4d6b-8f02-d3f376c215e7",
   "metadata": {
    "tags": []
   },
   "outputs": [],
   "source": [
    "from scipy.optimize import linprog"
   ]
  },
  {
   "cell_type": "code",
   "execution_count": 3,
   "id": "445ee47a-fa31-4e54-b7b7-c1c8d0aface5",
   "metadata": {
    "tags": []
   },
   "outputs": [],
   "source": [
    "import numpy as np"
   ]
  },
  {
   "cell_type": "code",
   "execution_count": 4,
   "id": "8c9823e4-2fee-40c4-aa98-aaae51ac9137",
   "metadata": {
    "tags": []
   },
   "outputs": [],
   "source": [
    "import gzip\n",
    "import pickle"
   ]
  },
  {
   "cell_type": "code",
   "execution_count": 5,
   "id": "1fbb36b7-546d-4db7-823e-4c032c041655",
   "metadata": {
    "tags": []
   },
   "outputs": [],
   "source": [
    "with gzip.open(\"instances/setcover/instance_1.pkl.gz\", \"rb\") as file:\n",
    "    (A, b, c) = pickle.load(file)"
   ]
  },
  {
   "cell_type": "code",
   "execution_count": 6,
   "id": "2af96f99-49f7-42e0-8492-e95e5ce0f30a",
   "metadata": {
    "tags": []
   },
   "outputs": [],
   "source": [
    "c = c.numpy()\n",
    "A_ub = None\n",
    "b_ub = None\n",
    "A_eq = A.numpy()\n",
    "b_eq = b.numpy()\n",
    "bounds = None\n",
    "x0 = None  # Guess values of the decision variables\n",
    "integrality = None"
   ]
  },
  {
   "cell_type": "code",
   "execution_count": null,
   "id": "b654650f-db0e-428d-b424-51cd6422f0c1",
   "metadata": {
    "tags": []
   },
   "outputs": [],
   "source": [
    "linprog(c, \n",
    "        A_ub=A_ub, \n",
    "        b_ub=b_ub, \n",
    "        A_eq=A_eq, b_eq=b_eq, bounds=bounds, method='interior-point', callback=lambda x: print(x['x']))"
   ]
  },
  {
   "cell_type": "code",
   "execution_count": null,
   "id": "f4e42da0-fa08-42b2-834d-14c7781ddfc6",
   "metadata": {},
   "outputs": [],
   "source": []
  }
 ],
 "metadata": {
  "kernelspec": {
   "display_name": "Python 3 (ipykernel)",
   "language": "python",
   "name": "python3"
  },
  "language_info": {
   "codemirror_mode": {
    "name": "ipython",
    "version": 3
   },
   "file_extension": ".py",
   "mimetype": "text/x-python",
   "name": "python",
   "nbconvert_exporter": "python",
   "pygments_lexer": "ipython3",
   "version": "3.10.10"
  }
 },
 "nbformat": 4,
 "nbformat_minor": 5
}
