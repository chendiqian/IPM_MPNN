{
 "cells": [
  {
   "cell_type": "code",
   "execution_count": 9,
   "id": "7244dbec-64eb-4640-b783-44acccaab72b",
   "metadata": {
    "tags": []
   },
   "outputs": [],
   "source": [
    "import scipy"
   ]
  },
  {
   "cell_type": "code",
   "execution_count": 10,
   "id": "b9964894-42af-4d6b-8f02-d3f376c215e7",
   "metadata": {
    "tags": []
   },
   "outputs": [],
   "source": [
    "from scipy.optimize import linprog"
   ]
  },
  {
   "cell_type": "code",
   "execution_count": 11,
   "id": "445ee47a-fa31-4e54-b7b7-c1c8d0aface5",
   "metadata": {
    "tags": []
   },
   "outputs": [],
   "source": [
    "import numpy as np"
   ]
  },
  {
   "cell_type": "code",
   "execution_count": 12,
   "id": "b654650f-db0e-428d-b424-51cd6422f0c1",
   "metadata": {
    "tags": []
   },
   "outputs": [
    {
     "name": "stdout",
     "output_type": "stream",
     "text": [
      "[1. 1.]\n",
      "[1.34754838 1.56729982]\n",
      "[4.97142465e-01 1.29573927e-04]\n",
      "[0.03794292 0.00274742]\n",
      "[1.95750567e-06 2.35625989e-07]\n",
      "[9.78753002e-11 1.17813015e-11]\n"
     ]
    },
    {
     "name": "stderr",
     "output_type": "stream",
     "text": [
      "/tmp/ipykernel_9442/3410476599.py:1: DeprecationWarning: `method='interior-point'` is deprecated and will be removed in SciPy 1.11.0. Please use one of the HiGHS solvers (e.g. `method='highs'`) in new code.\n",
      "  linprog(np.array([3., 4.]),\n"
     ]
    },
    {
     "data": {
      "text/plain": [
       " message: Optimization terminated successfully.\n",
       " success: True\n",
       "  status: 0\n",
       "     fun: 3.407511066229391e-10\n",
       "       x: [ 9.788e-11  1.178e-11]\n",
       "     nit: 5"
      ]
     },
     "execution_count": 12,
     "metadata": {},
     "output_type": "execute_result"
    }
   ],
   "source": [
    "linprog(np.array([3., 4.]), \n",
    "        A_ub=np.array([[1., 2.], [-3., 1.], [1., -1.]]), \n",
    "        b_ub=np.array([14., 0., 2.]), \n",
    "        A_eq=None, b_eq=None, bounds=None, method='interior-point', callback=lambda x: print(x['x']))"
   ]
  },
  {
   "cell_type": "code",
   "execution_count": null,
   "id": "f4e42da0-fa08-42b2-834d-14c7781ddfc6",
   "metadata": {},
   "outputs": [],
   "source": []
  }
 ],
 "metadata": {
  "kernelspec": {
   "display_name": "Python 3 (ipykernel)",
   "language": "python",
   "name": "python3"
  },
  "language_info": {
   "codemirror_mode": {
    "name": "ipython",
    "version": 3
   },
   "file_extension": ".py",
   "mimetype": "text/x-python",
   "name": "python",
   "nbconvert_exporter": "python",
   "pygments_lexer": "ipython3",
   "version": "3.10.10"
  }
 },
 "nbformat": 4,
 "nbformat_minor": 5
}
