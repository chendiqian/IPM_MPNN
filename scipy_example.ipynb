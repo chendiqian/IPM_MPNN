{
 "cells": [
  {
   "cell_type": "code",
   "execution_count": 10,
   "id": "7244dbec-64eb-4640-b783-44acccaab72b",
   "metadata": {
    "tags": []
   },
   "outputs": [],
   "source": [
    "import scipy"
   ]
  },
  {
   "cell_type": "code",
   "execution_count": 11,
   "id": "b9964894-42af-4d6b-8f02-d3f376c215e7",
   "metadata": {
    "tags": []
   },
   "outputs": [],
   "source": [
    "from scipy.optimize import linprog"
   ]
  },
  {
   "cell_type": "code",
   "execution_count": 12,
   "id": "445ee47a-fa31-4e54-b7b7-c1c8d0aface5",
   "metadata": {
    "tags": []
   },
   "outputs": [],
   "source": [
    "import numpy as np"
   ]
  },
  {
   "cell_type": "code",
   "execution_count": 13,
   "id": "8c9823e4-2fee-40c4-aa98-aaae51ac9137",
   "metadata": {
    "tags": []
   },
   "outputs": [],
   "source": [
    "import gzip\n",
    "import pickle"
   ]
  },
  {
   "cell_type": "code",
   "execution_count": 33,
   "id": "1fbb36b7-546d-4db7-823e-4c032c041655",
   "metadata": {
    "tags": []
   },
   "outputs": [
    {
     "name": "stderr",
     "output_type": "stream",
     "text": [
      "/tmp/ipykernel_1288/687764728.py:15: DeprecationWarning: `method='interior-point'` is deprecated and will be removed in SciPy 1.11.0. Please use one of the HiGHS solvers (e.g. `method='highs'`) in new code.\n",
      "  _ = linprog(c,\n"
     ]
    }
   ],
   "source": [
    "for i in range(100):\n",
    "\n",
    "    with gzip.open(\"instances/setcover/raw/instance_0.pkl.gz\", \"rb\") as file:\n",
    "        (A, b, c) = pickle.load(file)\n",
    "    \n",
    "    c = c.numpy()\n",
    "    A_ub = None\n",
    "    b_ub = None\n",
    "    A_eq = A.numpy()\n",
    "    b_eq = b.numpy()\n",
    "    bounds = None\n",
    "    x0 = None  # Guess values of the decision variables\n",
    "    integrality = None\n",
    "    \n",
    "    _ = linprog(c, \n",
    "        A_ub=A_ub, \n",
    "        b_ub=b_ub, \n",
    "        A_eq=A_eq, b_eq=b_eq, bounds=bounds, method='interior-point')"
   ]
  },
  {
   "cell_type": "code",
   "execution_count": null,
   "id": "beb87c90-a751-4246-8205-e31ccef36baf",
   "metadata": {},
   "outputs": [],
   "source": []
  }
 ],
 "metadata": {
  "kernelspec": {
   "display_name": "Python 3 (ipykernel)",
   "language": "python",
   "name": "python3"
  },
  "language_info": {
   "codemirror_mode": {
    "name": "ipython",
    "version": 3
   },
   "file_extension": ".py",
   "mimetype": "text/x-python",
   "name": "python",
   "nbconvert_exporter": "python",
   "pygments_lexer": "ipython3",
   "version": "3.10.11"
  }
 },
 "nbformat": 4,
 "nbformat_minor": 5
}
